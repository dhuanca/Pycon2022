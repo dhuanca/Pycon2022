{
  "cells": [
    {
      "cell_type": "markdown",
      "metadata": {
        "id": "view-in-github",
        "colab_type": "text"
      },
      "source": [
        "<a href=\"https://colab.research.google.com/github/dhuanca/Pycon2022/blob/main/SegmentacionPyconBolivia2022.ipynb\" target=\"_parent\"><img src=\"https://colab.research.google.com/assets/colab-badge.svg\" alt=\"Open In Colab\"/></a>"
      ]
    },
    {
      "cell_type": "markdown",
      "metadata": {
        "id": "O5BtZansgE5A"
      },
      "source": [
        "## Modelo Segmentación cliente "
      ]
    },
    {
      "cell_type": "code",
      "execution_count": 3,
      "metadata": {
        "id": "rgEi2PhpgE5F",
        "outputId": "6f20f873-e0ec-4082-f8ec-9311e094ca85",
        "colab": {
          "base_uri": "https://localhost:8080/"
        }
      },
      "outputs": [
        {
          "output_type": "stream",
          "name": "stdout",
          "text": [
            "Looking in indexes: https://pypi.org/simple, https://us-python.pkg.dev/colab-wheels/public/simple/\n",
            "Requirement already satisfied: pyspark in /usr/local/lib/python3.8/dist-packages (3.3.1)\n",
            "Requirement already satisfied: py4j==0.10.9.5 in /usr/local/lib/python3.8/dist-packages (from pyspark) (0.10.9.5)\n"
          ]
        }
      ],
      "source": [
        "!pip install pyspark"
      ]
    },
    {
      "cell_type": "code",
      "execution_count": 4,
      "metadata": {
        "id": "yDprlE5VgE5G"
      },
      "outputs": [],
      "source": [
        "from pyspark.sql import SparkSession\n",
        "import pandas as pd\n",
        "import matplotlib.pyplot as plt"
      ]
    },
    {
      "cell_type": "markdown",
      "metadata": {
        "id": "KVyaj8XRgE5H"
      },
      "source": [
        "Un sparkSession es un punto de entrada para programar Spark con Dataframes (DataFrame API)\n",
        "\n",
        "El método builder es el constructor de instancias SparkSession\n",
        "\n",
        "https://spark.apache.org/docs/3.1.1/api/python/reference/api/pyspark.sql.SparkSession.html"
      ]
    },
    {
      "cell_type": "code",
      "execution_count": 5,
      "metadata": {
        "id": "gQpkpoHcgE5I"
      },
      "outputs": [],
      "source": [
        "spark = SparkSession.builder.appName(\"Segmentacion\").getOrCreate()"
      ]
    },
    {
      "cell_type": "markdown",
      "metadata": {
        "id": "VnTp4XaJgE5I"
      },
      "source": [
        "Leer de un HDFS que se encuentra en la ruta /user/curso/ el archivo csv: churn_Operacion_2.csv\n",
        "\n",
        "El Schema se infiere\n",
        "\n",
        "Para el caso de Colab, se lee de la carpeta content"
      ]
    },
    {
      "cell_type": "code",
      "execution_count": 20,
      "metadata": {
        "id": "bc3vtOYagE5J"
      },
      "outputs": [],
      "source": [
        "df_telco = spark.read.csv('/content/churn_Operacion_2.csv', header=True, inferSchema=True)"
      ]
    },
    {
      "cell_type": "code",
      "execution_count": 21,
      "metadata": {
        "id": "1j_9r1ktgE5J",
        "outputId": "00c412be-6889-46e9-d491-597022c2e491",
        "colab": {
          "base_uri": "https://localhost:8080/"
        }
      },
      "outputs": [
        {
          "output_type": "stream",
          "name": "stdout",
          "text": [
            "+-----+--------+----------+-------------+-------------------+----------------+----------------------+------------------+----------------+-----------------+------------------+----------------+-----------------+--------------------+------------------+-------------------+-------------------+-----------------+------------------+------------------------------+-------+\n",
            "|state| account| area_code| phone_number| international_plan| voice_mail_plan| number_vmail_messages| total_day_minutes| total_day_calls| total_day_charge| total_eve_minutes| total_eve_calls| total_eve_charge| total_night_minutes| total_night_calls| total_night_charge| total_intl_minutes| total_intl_calls| total_intl_charge| number_customer_service_calls| churn.|\n",
            "+-----+--------+----------+-------------+-------------------+----------------+----------------------+------------------+----------------+-----------------+------------------+----------------+-----------------+--------------------+------------------+-------------------+-------------------+-----------------+------------------+------------------------------+-------+\n",
            "|   KS|   128.0|     415.0|     382-4657|                 no|             yes|                  25.0|             265.1|           110.0|            45.07|             197.4|            99.0|            16.78|               244.7|              91.0|              11.01|               10.0|              3.0|               2.7|                           1.0| False.|\n",
            "+-----+--------+----------+-------------+-------------------+----------------+----------------------+------------------+----------------+-----------------+------------------+----------------+-----------------+--------------------+------------------+-------------------+-------------------+-----------------+------------------+------------------------------+-------+\n",
            "only showing top 1 row\n",
            "\n"
          ]
        }
      ],
      "source": [
        "df_telco.show(1)"
      ]
    },
    {
      "cell_type": "markdown",
      "metadata": {
        "id": "-MS1fXJMgE5L"
      },
      "source": [
        "### ¿Que es el esquema?\n",
        "\n",
        "Es la metadata asociada al dataFrame **df_telco**"
      ]
    },
    {
      "cell_type": "code",
      "execution_count": 22,
      "metadata": {
        "id": "wcG6gTV7gE5M",
        "outputId": "e295a5e0-452b-45f2-80ae-5ccc8ba7a1ab",
        "colab": {
          "base_uri": "https://localhost:8080/"
        }
      },
      "outputs": [
        {
          "output_type": "stream",
          "name": "stdout",
          "text": [
            "root\n",
            " |-- state: string (nullable = true)\n",
            " |--  account: double (nullable = true)\n",
            " |--  area_code: double (nullable = true)\n",
            " |--  phone_number: string (nullable = true)\n",
            " |--  international_plan: string (nullable = true)\n",
            " |--  voice_mail_plan: string (nullable = true)\n",
            " |--  number_vmail_messages: double (nullable = true)\n",
            " |--  total_day_minutes: double (nullable = true)\n",
            " |--  total_day_calls: double (nullable = true)\n",
            " |--  total_day_charge: double (nullable = true)\n",
            " |--  total_eve_minutes: double (nullable = true)\n",
            " |--  total_eve_calls: double (nullable = true)\n",
            " |--  total_eve_charge: double (nullable = true)\n",
            " |--  total_night_minutes: double (nullable = true)\n",
            " |--  total_night_calls: double (nullable = true)\n",
            " |--  total_night_charge: double (nullable = true)\n",
            " |--  total_intl_minutes: double (nullable = true)\n",
            " |--  total_intl_calls: double (nullable = true)\n",
            " |--  total_intl_charge: double (nullable = true)\n",
            " |--  number_customer_service_calls: double (nullable = true)\n",
            " |--  churn.: string (nullable = true)\n",
            "\n"
          ]
        }
      ],
      "source": [
        "df_telco.printSchema()"
      ]
    },
    {
      "cell_type": "markdown",
      "metadata": {
        "id": "KEeAD0gfgE5N"
      },
      "source": [
        "### ¿Por qué es importante definir un schema?\n",
        "\n",
        "Es importante porque los modelos por si mismos no identifican si una variable es cuantitativa o cualitativa. Por ejemplo: si la ciudades de Cochabamba y Santa Cruz por los números 1 y 2. Estos valores son númericos? Una computadora los reconoce como numéricos si no se indentifica como texto que es lo que realmente son (cualitativos)\n"
      ]
    },
    {
      "cell_type": "code",
      "execution_count": 23,
      "metadata": {
        "id": "XGh6mtcagE5O"
      },
      "outputs": [],
      "source": [
        "from pyspark.sql.types import StructType, StructField, StringType, LongType, IntegerType, DoubleType, FloatType"
      ]
    },
    {
      "cell_type": "code",
      "execution_count": 24,
      "metadata": {
        "id": "ThCA7iz_gE5O"
      },
      "outputs": [],
      "source": [
        "Mischema = StructType(\n",
        "    [\n",
        "        StructField('state', StringType(), True),\n",
        "        StructField('account', StringType(), True),\n",
        "        StructField('area_code', StringType(), True),\n",
        "        StructField('phone_number', StringType(), True),\n",
        "        StructField('international_plan', StringType(), True),\n",
        "        StructField('voice_mail_plan', StringType(), True),       \n",
        "        StructField(\"number_vmail_messages\",  DoubleType(), True),\n",
        "        StructField('total_day_minutes', DoubleType(), True), \n",
        "        StructField('total_day_calls', DoubleType(), True),\n",
        "        StructField('total_day_charge', DoubleType(), True),\n",
        "        StructField('total_eve_minutes', DoubleType(), True),\n",
        "        StructField('total_eve_calls', DoubleType(), True),\n",
        "        StructField('total_eve_charge', DoubleType(), True),\n",
        "        StructField('total_night_minutes', DoubleType(), True),\n",
        "        StructField('total_night_calls', DoubleType(), True),\n",
        "        StructField('total_night_charge', DoubleType(), True),\n",
        "        StructField('total_intl_minutes', DoubleType(), True),\n",
        "        StructField('total_intl_calls', DoubleType(), True),\n",
        "        StructField('total_intl_charge', DoubleType(), True),\n",
        "        StructField('number_customer_service_calls', DoubleType(), True),\n",
        "        StructField('churn.', StringType(), True)       \n",
        "    ]\n",
        ")"
      ]
    },
    {
      "cell_type": "markdown",
      "metadata": {
        "id": "3t16WwnQgE5P"
      },
      "source": [
        "Re leer el dataframe con el schema acordado"
      ]
    },
    {
      "cell_type": "code",
      "execution_count": 25,
      "metadata": {
        "id": "-g4C8aQ-gE5P"
      },
      "outputs": [],
      "source": [
        "df_telco = spark.read.csv('/content/churn_Operacion_2.csv', header=True, schema=Mischema)"
      ]
    },
    {
      "cell_type": "markdown",
      "source": [
        "La variable \"churn.\" tiene un punto en la parte final"
      ],
      "metadata": {
        "id": "saavoxmMS24q"
      }
    },
    {
      "cell_type": "code",
      "source": [
        "df_telco = df_telco.withColumnRenamed('churn.','churn')"
      ],
      "metadata": {
        "id": "8i7Xzkh0S1by"
      },
      "execution_count": 26,
      "outputs": []
    },
    {
      "cell_type": "markdown",
      "metadata": {
        "id": "8gtloiRvgE5Q"
      },
      "source": [
        "### Explorar datos\n",
        "\n",
        "Ordenar por columnas \n",
        "\n",
        "¿Cuáles son las 5 personas que menos reclamos y las 5 personas que mas reclaman?\n",
        "\n",
        "Ascendente"
      ]
    },
    {
      "cell_type": "code",
      "execution_count": 31,
      "metadata": {
        "id": "VWJD4crdgE5Q",
        "outputId": "d407d2db-4c24-48fa-b8d4-c7c8bff6f7be",
        "colab": {
          "base_uri": "https://localhost:8080/"
        }
      },
      "outputs": [
        {
          "output_type": "stream",
          "name": "stdout",
          "text": [
            "+-----------------------------+------------+\n",
            "|number_customer_service_calls|phone_number|\n",
            "+-----------------------------+------------+\n",
            "|                          0.0|    396-5800|\n",
            "|                          0.0|    395-2854|\n",
            "|                          0.0|    358-1958|\n",
            "|                          0.0|    358-1921|\n",
            "|                          0.0|    343-4696|\n",
            "+-----------------------------+------------+\n",
            "only showing top 5 rows\n",
            "\n"
          ]
        }
      ],
      "source": [
        "df_telco.sort('number_customer_service_calls')[['number_customer_service_calls', 'phone_number']].show(5)"
      ]
    },
    {
      "cell_type": "markdown",
      "metadata": {
        "id": "XJgvtIltgE5R"
      },
      "source": [
        "Descendente"
      ]
    },
    {
      "cell_type": "code",
      "execution_count": 32,
      "metadata": {
        "id": "8m0q0wEpgE5R"
      },
      "outputs": [],
      "source": [
        "from pyspark.sql import functions as F"
      ]
    },
    {
      "cell_type": "code",
      "execution_count": 33,
      "metadata": {
        "id": "GpJcwnqagE5R",
        "outputId": "5488662e-9190-47c5-9ffd-2face695cdab",
        "colab": {
          "base_uri": "https://localhost:8080/"
        }
      },
      "outputs": [
        {
          "output_type": "stream",
          "name": "stdout",
          "text": [
            "+-----------------------------+------------+\n",
            "|number_customer_service_calls|phone_number|\n",
            "+-----------------------------+------------+\n",
            "|                          9.0|    416-6886|\n",
            "|                          9.0|    416-2778|\n",
            "|                          8.0|    333-8822|\n",
            "|                          8.0|    371-1727|\n",
            "|                          7.0|    397-9184|\n",
            "+-----------------------------+------------+\n",
            "only showing top 5 rows\n",
            "\n"
          ]
        }
      ],
      "source": [
        "df_telco.sort(F.desc('number_customer_service_calls'))[['number_customer_service_calls', 'phone_number']].show(5)"
      ]
    },
    {
      "cell_type": "markdown",
      "metadata": {
        "id": "KI_M5TG2gE5R"
      },
      "source": [
        "Para verificar el dominio de variables cualitativas se usan funciones de agrupación\n",
        "\n",
        "¿Cuál es la distribución por area?\n",
        "\n",
        "¿Cual es la distribucion de la tenencia de un plan de llamadas internacionales?\n",
        "\n",
        "¿Cual es la media de mensajes de texto y llamadas al call center por estado?\n"
      ]
    },
    {
      "cell_type": "code",
      "execution_count": 15,
      "metadata": {
        "id": "HubrbFRpgE5S",
        "outputId": "904208c8-7905-4305-8812-a4e71e3f3d64",
        "colab": {
          "base_uri": "https://localhost:8080/"
        }
      },
      "outputs": [
        {
          "output_type": "stream",
          "name": "stdout",
          "text": [
            "+---------+-----+\n",
            "|area_code|count|\n",
            "+---------+-----+\n",
            "|      408|  838|\n",
            "|      510|  840|\n",
            "|      415| 1655|\n",
            "+---------+-----+\n",
            "\n"
          ]
        }
      ],
      "source": [
        "df_telco.groupBy(F.col('area_code')).count().show()"
      ]
    },
    {
      "cell_type": "code",
      "execution_count": 16,
      "metadata": {
        "id": "dtO6Cb3pgE5S",
        "outputId": "c1d54d84-55a6-4d04-f9be-c033d2fbb5f6",
        "colab": {
          "base_uri": "https://localhost:8080/"
        }
      },
      "outputs": [
        {
          "output_type": "stream",
          "name": "stdout",
          "text": [
            "+------------------+-----+\n",
            "|international_plan|count|\n",
            "+------------------+-----+\n",
            "|                no| 3010|\n",
            "|               yes|  323|\n",
            "+------------------+-----+\n",
            "\n"
          ]
        }
      ],
      "source": [
        "df_telco.groupBy(F.col('international_plan')).count().show()"
      ]
    },
    {
      "cell_type": "code",
      "execution_count": 17,
      "metadata": {
        "id": "9qzT6zgNgE5S",
        "outputId": "ab374a9f-79be-4413-97a5-879e1e8312d1",
        "colab": {
          "base_uri": "https://localhost:8080/"
        }
      },
      "outputs": [
        {
          "output_type": "stream",
          "name": "stdout",
          "text": [
            "+-----+--------------------------+----------------------------------+\n",
            "|state|avg(number_vmail_messages)|avg(number_customer_service_calls)|\n",
            "+-----+--------------------------+----------------------------------+\n",
            "|   AZ|                   9.46875|                           1.59375|\n",
            "|   SC|         8.683333333333334|                1.5833333333333333|\n",
            "|   LA|         7.901960784313726|                1.5686274509803921|\n",
            "|   MN|         8.261904761904763|                1.5476190476190477|\n",
            "|   NJ|         9.191176470588236|                1.6764705882352942|\n",
            "|   DC|          9.74074074074074|                1.3518518518518519|\n",
            "|   OR|          6.17948717948718|                1.7307692307692308|\n",
            "|   VA|         7.038961038961039|                1.5974025974025974|\n",
            "|   RI|         7.323076923076923|                1.4153846153846155|\n",
            "|   WY|          6.51948051948052|                1.4415584415584415|\n",
            "|   KY|                       7.0|                1.7118644067796611|\n",
            "|   NH|         8.267857142857142|                1.5178571428571428|\n",
            "|   MI|         8.452054794520548|                  1.63013698630137|\n",
            "|   NV|         6.803030303030303|                1.5909090909090908|\n",
            "|   WI|         8.282051282051283|                1.4230769230769231|\n",
            "|   ID|        10.219178082191782|                1.6712328767123288|\n",
            "|   CA|                       9.0|                1.4705882352941178|\n",
            "|   NE|         8.557377049180328|                 1.459016393442623|\n",
            "|   CT|         9.067567567567568|                1.5135135135135136|\n",
            "|   MT|         9.338235294117647|                1.6323529411764706|\n",
            "+-----+--------------------------+----------------------------------+\n",
            "only showing top 20 rows\n",
            "\n"
          ]
        }
      ],
      "source": [
        "df_telco[['state','number_vmail_messages','number_customer_service_calls']].groupBy(F.col('state')).avg().show()"
      ]
    },
    {
      "cell_type": "code",
      "source": [
        "df_telco.groupBy(F.col('voice_mail_plan')).count().show()"
      ],
      "metadata": {
        "id": "fEZDmvPyuXLp",
        "outputId": "daaa0f63-da37-4013-e58e-d4e0eddc40f6",
        "colab": {
          "base_uri": "https://localhost:8080/"
        }
      },
      "execution_count": 151,
      "outputs": [
        {
          "output_type": "stream",
          "name": "stdout",
          "text": [
            "+---------------+-----+\n",
            "|voice_mail_plan|count|\n",
            "+---------------+-----+\n",
            "|             no| 2411|\n",
            "|            yes|  922|\n",
            "+---------------+-----+\n",
            "\n"
          ]
        }
      ]
    },
    {
      "cell_type": "markdown",
      "source": [
        "¿Como puedo graficar?\n",
        "\n",
        "Hay varias fomas de hacerlo. Una es crer un resumen con Spark para llevarlo a Pandas y usar alguna libreria de graficación.\n",
        "\n",
        "Para ello se usa el metodo **toPandas**"
      ],
      "metadata": {
        "id": "duVF5L-BWQHN"
      }
    },
    {
      "cell_type": "code",
      "execution_count": 35,
      "metadata": {
        "id": "43JHNYfdgE5T"
      },
      "outputs": [],
      "source": [
        "df_telco_pandas = df_telco[['churn','number_customer_service_calls']].groupBy(F.col('churn')).avg().toPandas()"
      ]
    },
    {
      "cell_type": "code",
      "execution_count": 36,
      "metadata": {
        "id": "RmrSAy3ZgE5T",
        "outputId": "589402a2-cc8c-4718-b320-27e8e849b57b",
        "colab": {
          "base_uri": "https://localhost:8080/"
        }
      },
      "outputs": [
        {
          "output_type": "execute_result",
          "data": {
            "text/plain": [
              "pandas.core.frame.DataFrame"
            ]
          },
          "metadata": {},
          "execution_count": 36
        }
      ],
      "source": [
        "type(df_telco_pandas)"
      ]
    },
    {
      "cell_type": "code",
      "execution_count": 37,
      "metadata": {
        "id": "1SK4QwhdgE5T",
        "outputId": "bcf4078b-d60a-48ee-a9f5-54ad6d5a52c5",
        "colab": {
          "base_uri": "https://localhost:8080/"
        }
      },
      "outputs": [
        {
          "output_type": "execute_result",
          "data": {
            "text/plain": [
              "pyspark.sql.dataframe.DataFrame"
            ]
          },
          "metadata": {},
          "execution_count": 37
        }
      ],
      "source": [
        "type(df_telco)"
      ]
    },
    {
      "cell_type": "code",
      "source": [
        "df_telco_pandas"
      ],
      "metadata": {
        "id": "JRbpk6yPYgSS",
        "outputId": "c6246a82-7c13-4918-c01e-4b78d1034343",
        "colab": {
          "base_uri": "https://localhost:8080/",
          "height": 112
        }
      },
      "execution_count": 39,
      "outputs": [
        {
          "output_type": "execute_result",
          "data": {
            "text/plain": [
              "     churn  avg(number_customer_service_calls)\n",
              "0   False.                            1.449825\n",
              "1    True.                            2.229814"
            ],
            "text/html": [
              "\n",
              "  <div id=\"df-832281f6-69d4-43c3-8dfc-254e0fdb4194\">\n",
              "    <div class=\"colab-df-container\">\n",
              "      <div>\n",
              "<style scoped>\n",
              "    .dataframe tbody tr th:only-of-type {\n",
              "        vertical-align: middle;\n",
              "    }\n",
              "\n",
              "    .dataframe tbody tr th {\n",
              "        vertical-align: top;\n",
              "    }\n",
              "\n",
              "    .dataframe thead th {\n",
              "        text-align: right;\n",
              "    }\n",
              "</style>\n",
              "<table border=\"1\" class=\"dataframe\">\n",
              "  <thead>\n",
              "    <tr style=\"text-align: right;\">\n",
              "      <th></th>\n",
              "      <th>churn</th>\n",
              "      <th>avg(number_customer_service_calls)</th>\n",
              "    </tr>\n",
              "  </thead>\n",
              "  <tbody>\n",
              "    <tr>\n",
              "      <th>0</th>\n",
              "      <td>False.</td>\n",
              "      <td>1.449825</td>\n",
              "    </tr>\n",
              "    <tr>\n",
              "      <th>1</th>\n",
              "      <td>True.</td>\n",
              "      <td>2.229814</td>\n",
              "    </tr>\n",
              "  </tbody>\n",
              "</table>\n",
              "</div>\n",
              "      <button class=\"colab-df-convert\" onclick=\"convertToInteractive('df-832281f6-69d4-43c3-8dfc-254e0fdb4194')\"\n",
              "              title=\"Convert this dataframe to an interactive table.\"\n",
              "              style=\"display:none;\">\n",
              "        \n",
              "  <svg xmlns=\"http://www.w3.org/2000/svg\" height=\"24px\"viewBox=\"0 0 24 24\"\n",
              "       width=\"24px\">\n",
              "    <path d=\"M0 0h24v24H0V0z\" fill=\"none\"/>\n",
              "    <path d=\"M18.56 5.44l.94 2.06.94-2.06 2.06-.94-2.06-.94-.94-2.06-.94 2.06-2.06.94zm-11 1L8.5 8.5l.94-2.06 2.06-.94-2.06-.94L8.5 2.5l-.94 2.06-2.06.94zm10 10l.94 2.06.94-2.06 2.06-.94-2.06-.94-.94-2.06-.94 2.06-2.06.94z\"/><path d=\"M17.41 7.96l-1.37-1.37c-.4-.4-.92-.59-1.43-.59-.52 0-1.04.2-1.43.59L10.3 9.45l-7.72 7.72c-.78.78-.78 2.05 0 2.83L4 21.41c.39.39.9.59 1.41.59.51 0 1.02-.2 1.41-.59l7.78-7.78 2.81-2.81c.8-.78.8-2.07 0-2.86zM5.41 20L4 18.59l7.72-7.72 1.47 1.35L5.41 20z\"/>\n",
              "  </svg>\n",
              "      </button>\n",
              "      \n",
              "  <style>\n",
              "    .colab-df-container {\n",
              "      display:flex;\n",
              "      flex-wrap:wrap;\n",
              "      gap: 12px;\n",
              "    }\n",
              "\n",
              "    .colab-df-convert {\n",
              "      background-color: #E8F0FE;\n",
              "      border: none;\n",
              "      border-radius: 50%;\n",
              "      cursor: pointer;\n",
              "      display: none;\n",
              "      fill: #1967D2;\n",
              "      height: 32px;\n",
              "      padding: 0 0 0 0;\n",
              "      width: 32px;\n",
              "    }\n",
              "\n",
              "    .colab-df-convert:hover {\n",
              "      background-color: #E2EBFA;\n",
              "      box-shadow: 0px 1px 2px rgba(60, 64, 67, 0.3), 0px 1px 3px 1px rgba(60, 64, 67, 0.15);\n",
              "      fill: #174EA6;\n",
              "    }\n",
              "\n",
              "    [theme=dark] .colab-df-convert {\n",
              "      background-color: #3B4455;\n",
              "      fill: #D2E3FC;\n",
              "    }\n",
              "\n",
              "    [theme=dark] .colab-df-convert:hover {\n",
              "      background-color: #434B5C;\n",
              "      box-shadow: 0px 1px 3px 1px rgba(0, 0, 0, 0.15);\n",
              "      filter: drop-shadow(0px 1px 2px rgba(0, 0, 0, 0.3));\n",
              "      fill: #FFFFFF;\n",
              "    }\n",
              "  </style>\n",
              "\n",
              "      <script>\n",
              "        const buttonEl =\n",
              "          document.querySelector('#df-832281f6-69d4-43c3-8dfc-254e0fdb4194 button.colab-df-convert');\n",
              "        buttonEl.style.display =\n",
              "          google.colab.kernel.accessAllowed ? 'block' : 'none';\n",
              "\n",
              "        async function convertToInteractive(key) {\n",
              "          const element = document.querySelector('#df-832281f6-69d4-43c3-8dfc-254e0fdb4194');\n",
              "          const dataTable =\n",
              "            await google.colab.kernel.invokeFunction('convertToInteractive',\n",
              "                                                     [key], {});\n",
              "          if (!dataTable) return;\n",
              "\n",
              "          const docLinkHtml = 'Like what you see? Visit the ' +\n",
              "            '<a target=\"_blank\" href=https://colab.research.google.com/notebooks/data_table.ipynb>data table notebook</a>'\n",
              "            + ' to learn more about interactive tables.';\n",
              "          element.innerHTML = '';\n",
              "          dataTable['output_type'] = 'display_data';\n",
              "          await google.colab.output.renderOutput(dataTable, element);\n",
              "          const docLink = document.createElement('div');\n",
              "          docLink.innerHTML = docLinkHtml;\n",
              "          element.appendChild(docLink);\n",
              "        }\n",
              "      </script>\n",
              "    </div>\n",
              "  </div>\n",
              "  "
            ]
          },
          "metadata": {},
          "execution_count": 39
        }
      ]
    },
    {
      "cell_type": "code",
      "execution_count": 38,
      "metadata": {
        "id": "Bh6GQHVLgE5T",
        "outputId": "c6ccbd8b-a4a6-4163-c57e-c6afea8c3a6a",
        "colab": {
          "base_uri": "https://localhost:8080/",
          "height": 355
        }
      },
      "outputs": [
        {
          "output_type": "display_data",
          "data": {
            "text/plain": [
              "<Figure size 720x360 with 1 Axes>"
            ],
            "image/png": "[encoded data removed]"
          },
          "metadata": {
            "needs_background": "light"
          }
        }
      ],
      "source": [
        "df_telco_pandas.plot.bar('churn', figsize=(10,5))\n",
        "plt.show()"
      ]
    },
    {
      "cell_type": "code",
      "execution_count": 40,
      "metadata": {
        "id": "z6FB3j3wgE5U"
      },
      "outputs": [],
      "source": [
        "df_telco_pandas = df_telco[['churn','total_day_minutes']].groupBy(F.col('churn')).avg().toPandas()"
      ]
    },
    {
      "cell_type": "code",
      "execution_count": 41,
      "metadata": {
        "id": "DnpY68XlgE5U",
        "outputId": "cc0adf3d-f12b-4682-a191-49e3d33021e8",
        "colab": {
          "base_uri": "https://localhost:8080/",
          "height": 355
        }
      },
      "outputs": [
        {
          "output_type": "display_data",
          "data": {
            "text/plain": [
              "<Figure size 720x360 with 1 Axes>"
            ],
            "image/png": "[encoded data removed]"
          },
          "metadata": {
            "needs_background": "light"
          }
        }
      ],
      "source": [
        "df_telco_pandas.plot.bar('churn', figsize=(10,5))\n",
        "plt.show()"
      ]
    },
    {
      "cell_type": "markdown",
      "metadata": {
        "id": "i2lkQZe3gE5U"
      },
      "source": [
        "##   Transformaciones para refinar datos\n",
        "\n",
        "###   Renonbrar columnas\n",
        "\n",
        "La variable churn. contiene un punto al final que podemos eliminarlo"
      ]
    },
    {
      "cell_type": "code",
      "execution_count": null,
      "metadata": {
        "id": "l7vlHrsygE5U"
      },
      "outputs": [],
      "source": [
        "# ya se hizo lineas arriba\n",
        "# df_telco = df_telco.withColumnRenamed('churn.','churn')"
      ]
    },
    {
      "cell_type": "code",
      "execution_count": 42,
      "metadata": {
        "id": "LL1VxiQbgE5V",
        "outputId": "058be3ac-46a7-4262-c9be-105483930ab2",
        "colab": {
          "base_uri": "https://localhost:8080/"
        }
      },
      "outputs": [
        {
          "output_type": "execute_result",
          "data": {
            "text/plain": [
              "['state',\n",
              " 'account',\n",
              " 'area_code',\n",
              " 'phone_number',\n",
              " 'international_plan',\n",
              " 'voice_mail_plan',\n",
              " 'number_vmail_messages',\n",
              " 'total_day_minutes',\n",
              " 'total_day_calls',\n",
              " 'total_day_charge',\n",
              " 'total_eve_minutes',\n",
              " 'total_eve_calls',\n",
              " 'total_eve_charge',\n",
              " 'total_night_minutes',\n",
              " 'total_night_calls',\n",
              " 'total_night_charge',\n",
              " 'total_intl_minutes',\n",
              " 'total_intl_calls',\n",
              " 'total_intl_charge',\n",
              " 'number_customer_service_calls',\n",
              " 'churn']"
            ]
          },
          "metadata": {},
          "execution_count": 42
        }
      ],
      "source": [
        "df_telco.columns"
      ]
    },
    {
      "cell_type": "markdown",
      "metadata": {
        "id": "nweVRKVKgE5V"
      },
      "source": [
        "### Eliminación de valores nulos"
      ]
    },
    {
      "cell_type": "code",
      "execution_count": 44,
      "metadata": {
        "id": "X7BiE8wygE5V"
      },
      "outputs": [],
      "source": [
        "df_telco_describe = df_telco.describe().toPandas()"
      ]
    },
    {
      "cell_type": "code",
      "execution_count": 45,
      "metadata": {
        "id": "Em0fccSngE5V",
        "outputId": "fea4700a-edab-458c-93ac-dc7727116026",
        "colab": {
          "base_uri": "https://localhost:8080/",
          "height": 299
        }
      },
      "outputs": [
        {
          "output_type": "execute_result",
          "data": {
            "text/plain": [
              "  summary state             account           area_code phone_number  \\\n",
              "0   count  3333                3333                3333         3333   \n",
              "1    mean  None  101.06480648064806  437.18241824182417         None   \n",
              "2  stddev  None  39.822105928595676   42.37129048560661         None   \n",
              "3     min    AK                   1                 408     327-1058   \n",
              "4     max    WY                  99                 510     422-9964   \n",
              "\n",
              "  international_plan voice_mail_plan number_vmail_messages  \\\n",
              "0               3333            3333                  3333   \n",
              "1               None            None     8.099009900990099   \n",
              "2               None            None    13.688365372038598   \n",
              "3                 no              no                   0.0   \n",
              "4                yes             yes                  51.0   \n",
              "\n",
              "    total_day_minutes     total_day_calls  ...     total_eve_calls  \\\n",
              "0                3333                3333  ...                3333   \n",
              "1  179.77509750975116  100.43564356435644  ...  100.11431143114311   \n",
              "2   54.46738920237146  20.069084207300893  ...   19.92262529394312   \n",
              "3                 0.0                 0.0  ...                 0.0   \n",
              "4               350.8               165.0  ...               170.0   \n",
              "\n",
              "     total_eve_charge total_night_minutes   total_night_calls  \\\n",
              "0                3333                3333                3333   \n",
              "1  17.083540354035392  200.87203720372048  100.10771077107711   \n",
              "2   4.310667643110347   50.57384701365836  19.568609346058544   \n",
              "3                 0.0                23.2                33.0   \n",
              "4               30.91               395.0               175.0   \n",
              "\n",
              "  total_night_charge  total_intl_minutes    total_intl_calls  \\\n",
              "0               3333                3333                3333   \n",
              "1  9.039324932493264  10.237293729372933  4.4794479447944795   \n",
              "2  2.275872837660027   2.791839548408416  2.4612142705460953   \n",
              "3               1.04                 0.0                 0.0   \n",
              "4              17.77                20.0                20.0   \n",
              "\n",
              "    total_intl_charge number_customer_service_calls    churn  \n",
              "0                3333                          3333     3333  \n",
              "1   2.764581458145804            1.5628562856285628     None  \n",
              "2  0.7537726126630451            1.3154910448664752     None  \n",
              "3                 0.0                           0.0   False.  \n",
              "4                 5.4                           9.0    True.  \n",
              "\n",
              "[5 rows x 22 columns]"
            ],
            "text/html": [
              "\n",
              "  <div id=\"df-87db1c91-a22c-4a9a-bc39-73a977b6403e\">\n",
              "    <div class=\"colab-df-container\">\n",
              "      <div>\n",
              "<style scoped>\n",
              "    .dataframe tbody tr th:only-of-type {\n",
              "        vertical-align: middle;\n",
              "    }\n",
              "\n",
              "    .dataframe tbody tr th {\n",
              "        vertical-align: top;\n",
              "    }\n",
              "\n",
              "    .dataframe thead th {\n",
              "        text-align: right;\n",
              "    }\n",
              "</style>\n",
              "<table border=\"1\" class=\"dataframe\">\n",
              "  <thead>\n",
              "    <tr style=\"text-align: right;\">\n",
              "      <th></th>\n",
              "      <th>summary</th>\n",
              "      <th>state</th>\n",
              "      <th>account</th>\n",
              "      <th>area_code</th>\n",
              "      <th>phone_number</th>\n",
              "      <th>international_plan</th>\n",
              "      <th>voice_mail_plan</th>\n",
              "      <th>number_vmail_messages</th>\n",
              "      <th>total_day_minutes</th>\n",
              "      <th>total_day_calls</th>\n",
              "      <th>...</th>\n",
              "      <th>total_eve_calls</th>\n",
              "      <th>total_eve_charge</th>\n",
              "      <th>total_night_minutes</th>\n",
              "      <th>total_night_calls</th>\n",
              "      <th>total_night_charge</th>\n",
              "      <th>total_intl_minutes</th>\n",
              "      <th>total_intl_calls</th>\n",
              "      <th>total_intl_charge</th>\n",
              "      <th>number_customer_service_calls</th>\n",
              "      <th>churn</th>\n",
              "    </tr>\n",
              "  </thead>\n",
              "  <tbody>\n",
              "    <tr>\n",
              "      <th>0</th>\n",
              "      <td>count</td>\n",
              "      <td>3333</td>\n",
              "      <td>3333</td>\n",
              "      <td>3333</td>\n",
              "      <td>3333</td>\n",
              "      <td>3333</td>\n",
              "      <td>3333</td>\n",
              "      <td>3333</td>\n",
              "      <td>3333</td>\n",
              "      <td>3333</td>\n",
              "      <td>...</td>\n",
              "      <td>3333</td>\n",
              "      <td>3333</td>\n",
              "      <td>3333</td>\n",
              "      <td>3333</td>\n",
              "      <td>3333</td>\n",
              "      <td>3333</td>\n",
              "      <td>3333</td>\n",
              "      <td>3333</td>\n",
              "      <td>3333</td>\n",
              "      <td>3333</td>\n",
              "    </tr>\n",
              "    <tr>\n",
              "      <th>1</th>\n",
              "      <td>mean</td>\n",
              "      <td>None</td>\n",
              "      <td>101.06480648064806</td>\n",
              "      <td>437.18241824182417</td>\n",
              "      <td>None</td>\n",
              "      <td>None</td>\n",
              "      <td>None</td>\n",
              "      <td>8.099009900990099</td>\n",
              "      <td>179.77509750975116</td>\n",
              "      <td>100.43564356435644</td>\n",
              "      <td>...</td>\n",
              "      <td>100.11431143114311</td>\n",
              "      <td>17.083540354035392</td>\n",
              "      <td>200.87203720372048</td>\n",
              "      <td>100.10771077107711</td>\n",
              "      <td>9.039324932493264</td>\n",
              "      <td>10.237293729372933</td>\n",
              "      <td>4.4794479447944795</td>\n",
              "      <td>2.764581458145804</td>\n",
              "      <td>1.5628562856285628</td>\n",
              "      <td>None</td>\n",
              "    </tr>\n",
              "    <tr>\n",
              "      <th>2</th>\n",
              "      <td>stddev</td>\n",
              "      <td>None</td>\n",
              "      <td>39.822105928595676</td>\n",
              "      <td>42.37129048560661</td>\n",
              "      <td>None</td>\n",
              "      <td>None</td>\n",
              "      <td>None</td>\n",
              "      <td>13.688365372038598</td>\n",
              "      <td>54.46738920237146</td>\n",
              "      <td>20.069084207300893</td>\n",
              "      <td>...</td>\n",
              "      <td>19.92262529394312</td>\n",
              "      <td>4.310667643110347</td>\n",
              "      <td>50.57384701365836</td>\n",
              "      <td>19.568609346058544</td>\n",
              "      <td>2.275872837660027</td>\n",
              "      <td>2.791839548408416</td>\n",
              "      <td>2.4612142705460953</td>\n",
              "      <td>0.7537726126630451</td>\n",
              "      <td>1.3154910448664752</td>\n",
              "      <td>None</td>\n",
              "    </tr>\n",
              "    <tr>\n",
              "      <th>3</th>\n",
              "      <td>min</td>\n",
              "      <td>AK</td>\n",
              "      <td>1</td>\n",
              "      <td>408</td>\n",
              "      <td>327-1058</td>\n",
              "      <td>no</td>\n",
              "      <td>no</td>\n",
              "      <td>0.0</td>\n",
              "      <td>0.0</td>\n",
              "      <td>0.0</td>\n",
              "      <td>...</td>\n",
              "      <td>0.0</td>\n",
              "      <td>0.0</td>\n",
              "      <td>23.2</td>\n",
              "      <td>33.0</td>\n",
              "      <td>1.04</td>\n",
              "      <td>0.0</td>\n",
              "      <td>0.0</td>\n",
              "      <td>0.0</td>\n",
              "      <td>0.0</td>\n",
              "      <td>False.</td>\n",
              "    </tr>\n",
              "    <tr>\n",
              "      <th>4</th>\n",
              "      <td>max</td>\n",
              "      <td>WY</td>\n",
              "      <td>99</td>\n",
              "      <td>510</td>\n",
              "      <td>422-9964</td>\n",
              "      <td>yes</td>\n",
              "      <td>yes</td>\n",
              "      <td>51.0</td>\n",
              "      <td>350.8</td>\n",
              "      <td>165.0</td>\n",
              "      <td>...</td>\n",
              "      <td>170.0</td>\n",
              "      <td>30.91</td>\n",
              "      <td>395.0</td>\n",
              "      <td>175.0</td>\n",
              "      <td>17.77</td>\n",
              "      <td>20.0</td>\n",
              "      <td>20.0</td>\n",
              "      <td>5.4</td>\n",
              "      <td>9.0</td>\n",
              "      <td>True.</td>\n",
              "    </tr>\n",
              "  </tbody>\n",
              "</table>\n",
              "<p>5 rows × 22 columns</p>\n",
              "</div>\n",
              "      <button class=\"colab-df-convert\" onclick=\"convertToInteractive('df-87db1c91-a22c-4a9a-bc39-73a977b6403e')\"\n",
              "              title=\"Convert this dataframe to an interactive table.\"\n",
              "              style=\"display:none;\">\n",
              "        \n",
              "  <svg xmlns=\"http://www.w3.org/2000/svg\" height=\"24px\"viewBox=\"0 0 24 24\"\n",
              "       width=\"24px\">\n",
              "    <path d=\"M0 0h24v24H0V0z\" fill=\"none\"/>\n",
              "    <path d=\"M18.56 5.44l.94 2.06.94-2.06 2.06-.94-2.06-.94-.94-2.06-.94 2.06-2.06.94zm-11 1L8.5 8.5l.94-2.06 2.06-.94-2.06-.94L8.5 2.5l-.94 2.06-2.06.94zm10 10l.94 2.06.94-2.06 2.06-.94-2.06-.94-.94-2.06-.94 2.06-2.06.94z\"/><path d=\"M17.41 7.96l-1.37-1.37c-.4-.4-.92-.59-1.43-.59-.52 0-1.04.2-1.43.59L10.3 9.45l-7.72 7.72c-.78.78-.78 2.05 0 2.83L4 21.41c.39.39.9.59 1.41.59.51 0 1.02-.2 1.41-.59l7.78-7.78 2.81-2.81c.8-.78.8-2.07 0-2.86zM5.41 20L4 18.59l7.72-7.72 1.47 1.35L5.41 20z\"/>\n",
              "  </svg>\n",
              "      </button>\n",
              "      \n",
              "  <style>\n",
              "    .colab-df-container {\n",
              "      display:flex;\n",
              "      flex-wrap:wrap;\n",
              "      gap: 12px;\n",
              "    }\n",
              "\n",
              "    .colab-df-convert {\n",
              "      background-color: #E8F0FE;\n",
              "      border: none;\n",
              "      border-radius: 50%;\n",
              "      cursor: pointer;\n",
              "      display: none;\n",
              "      fill: #1967D2;\n",
              "      height: 32px;\n",
              "      padding: 0 0 0 0;\n",
              "      width: 32px;\n",
              "    }\n",
              "\n",
              "    .colab-df-convert:hover {\n",
              "      background-color: #E2EBFA;\n",
              "      box-shadow: 0px 1px 2px rgba(60, 64, 67, 0.3), 0px 1px 3px 1px rgba(60, 64, 67, 0.15);\n",
              "      fill: #174EA6;\n",
              "    }\n",
              "\n",
              "    [theme=dark] .colab-df-convert {\n",
              "      background-color: #3B4455;\n",
              "      fill: #D2E3FC;\n",
              "    }\n",
              "\n",
              "    [theme=dark] .colab-df-convert:hover {\n",
              "      background-color: #434B5C;\n",
              "      box-shadow: 0px 1px 3px 1px rgba(0, 0, 0, 0.15);\n",
              "      filter: drop-shadow(0px 1px 2px rgba(0, 0, 0, 0.3));\n",
              "      fill: #FFFFFF;\n",
              "    }\n",
              "  </style>\n",
              "\n",
              "      <script>\n",
              "        const buttonEl =\n",
              "          document.querySelector('#df-87db1c91-a22c-4a9a-bc39-73a977b6403e button.colab-df-convert');\n",
              "        buttonEl.style.display =\n",
              "          google.colab.kernel.accessAllowed ? 'block' : 'none';\n",
              "\n",
              "        async function convertToInteractive(key) {\n",
              "          const element = document.querySelector('#df-87db1c91-a22c-4a9a-bc39-73a977b6403e');\n",
              "          const dataTable =\n",
              "            await google.colab.kernel.invokeFunction('convertToInteractive',\n",
              "                                                     [key], {});\n",
              "          if (!dataTable) return;\n",
              "\n",
              "          const docLinkHtml = 'Like what you see? Visit the ' +\n",
              "            '<a target=\"_blank\" href=https://colab.research.google.com/notebooks/data_table.ipynb>data table notebook</a>'\n",
              "            + ' to learn more about interactive tables.';\n",
              "          element.innerHTML = '';\n",
              "          dataTable['output_type'] = 'display_data';\n",
              "          await google.colab.output.renderOutput(dataTable, element);\n",
              "          const docLink = document.createElement('div');\n",
              "          docLink.innerHTML = docLinkHtml;\n",
              "          element.appendChild(docLink);\n",
              "        }\n",
              "      </script>\n",
              "    </div>\n",
              "  </div>\n",
              "  "
            ]
          },
          "metadata": {},
          "execution_count": 45
        }
      ],
      "source": [
        "df_telco_describe"
      ]
    },
    {
      "cell_type": "code",
      "execution_count": 46,
      "metadata": {
        "id": "sgZzqANHgE5W"
      },
      "outputs": [],
      "source": [
        "df_telco_summary = df_telco.summary().toPandas()"
      ]
    },
    {
      "cell_type": "code",
      "execution_count": 47,
      "metadata": {
        "id": "SzQ60avHgE5W",
        "outputId": "d2a6b5ce-1e7d-4a3f-deb6-2cdadb85f663",
        "colab": {
          "base_uri": "https://localhost:8080/",
          "height": 393
        }
      },
      "outputs": [
        {
          "output_type": "execute_result",
          "data": {
            "text/plain": [
              "  summary state             account           area_code phone_number  \\\n",
              "0   count  3333                3333                3333         3333   \n",
              "1    mean  None  101.06480648064806  437.18241824182417         None   \n",
              "2  stddev  None  39.822105928595676   42.37129048560661         None   \n",
              "3     min    AK                   1                 408     327-1058   \n",
              "4     25%  None                74.0               408.0         None   \n",
              "5     50%  None               101.0               415.0         None   \n",
              "6     75%  None               127.0               510.0         None   \n",
              "7     max    WY                  99                 510     422-9964   \n",
              "\n",
              "  international_plan voice_mail_plan number_vmail_messages  \\\n",
              "0               3333            3333                  3333   \n",
              "1               None            None     8.099009900990099   \n",
              "2               None            None    13.688365372038598   \n",
              "3                 no              no                   0.0   \n",
              "4               None            None                   0.0   \n",
              "5               None            None                   0.0   \n",
              "6               None            None                  20.0   \n",
              "7                yes             yes                  51.0   \n",
              "\n",
              "    total_day_minutes     total_day_calls  ...     total_eve_calls  \\\n",
              "0                3333                3333  ...                3333   \n",
              "1  179.77509750975116  100.43564356435644  ...  100.11431143114311   \n",
              "2   54.46738920237146  20.069084207300893  ...   19.92262529394312   \n",
              "3                 0.0                 0.0  ...                 0.0   \n",
              "4               143.7                87.0  ...                87.0   \n",
              "5               179.4               101.0  ...               100.0   \n",
              "6               216.4               114.0  ...               114.0   \n",
              "7               350.8               165.0  ...               170.0   \n",
              "\n",
              "     total_eve_charge total_night_minutes   total_night_calls  \\\n",
              "0                3333                3333                3333   \n",
              "1  17.083540354035392  200.87203720372048  100.10771077107711   \n",
              "2   4.310667643110347   50.57384701365836  19.568609346058544   \n",
              "3                 0.0                23.2                33.0   \n",
              "4               14.16               167.0                87.0   \n",
              "5               17.12               201.2               100.0   \n",
              "6                20.0               235.3               113.0   \n",
              "7               30.91               395.0               175.0   \n",
              "\n",
              "  total_night_charge  total_intl_minutes    total_intl_calls  \\\n",
              "0               3333                3333                3333   \n",
              "1  9.039324932493264  10.237293729372933  4.4794479447944795   \n",
              "2  2.275872837660027   2.791839548408416  2.4612142705460953   \n",
              "3               1.04                 0.0                 0.0   \n",
              "4               7.52                 8.5                 3.0   \n",
              "5               9.05                10.3                 4.0   \n",
              "6              10.59                12.1                 6.0   \n",
              "7              17.77                20.0                20.0   \n",
              "\n",
              "    total_intl_charge number_customer_service_calls    churn  \n",
              "0                3333                          3333     3333  \n",
              "1   2.764581458145804            1.5628562856285628     None  \n",
              "2  0.7537726126630451            1.3154910448664752     None  \n",
              "3                 0.0                           0.0   False.  \n",
              "4                 2.3                           1.0     None  \n",
              "5                2.78                           1.0     None  \n",
              "6                3.27                           2.0     None  \n",
              "7                 5.4                           9.0    True.  \n",
              "\n",
              "[8 rows x 22 columns]"
            ],
            "text/html": [
              "\n",
              "  <div id=\"df-87c5088f-66b5-4a71-a0a7-ee8827e41d3e\">\n",
              "    <div class=\"colab-df-container\">\n",
              "      <div>\n",
              "<style scoped>\n",
              "    .dataframe tbody tr th:only-of-type {\n",
              "        vertical-align: middle;\n",
              "    }\n",
              "\n",
              "    .dataframe tbody tr th {\n",
              "        vertical-align: top;\n",
              "    }\n",
              "\n",
              "    .dataframe thead th {\n",
              "        text-align: right;\n",
              "    }\n",
              "</style>\n",
              "<table border=\"1\" class=\"dataframe\">\n",
              "  <thead>\n",
              "    <tr style=\"text-align: right;\">\n",
              "      <th></th>\n",
              "      <th>summary</th>\n",
              "      <th>state</th>\n",
              "      <th>account</th>\n",
              "      <th>area_code</th>\n",
              "      <th>phone_number</th>\n",
              "      <th>international_plan</th>\n",
              "      <th>voice_mail_plan</th>\n",
              "      <th>number_vmail_messages</th>\n",
              "      <th>total_day_minutes</th>\n",
              "      <th>total_day_calls</th>\n",
              "      <th>...</th>\n",
              "      <th>total_eve_calls</th>\n",
              "      <th>total_eve_charge</th>\n",
              "      <th>total_night_minutes</th>\n",
              "      <th>total_night_calls</th>\n",
              "      <th>total_night_charge</th>\n",
              "      <th>total_intl_minutes</th>\n",
              "      <th>total_intl_calls</th>\n",
              "      <th>total_intl_charge</th>\n",
              "      <th>number_customer_service_calls</th>\n",
              "      <th>churn</th>\n",
              "    </tr>\n",
              "  </thead>\n",
              "  <tbody>\n",
              "    <tr>\n",
              "      <th>0</th>\n",
              "      <td>count</td>\n",
              "      <td>3333</td>\n",
              "      <td>3333</td>\n",
              "      <td>3333</td>\n",
              "      <td>3333</td>\n",
              "      <td>3333</td>\n",
              "      <td>3333</td>\n",
              "      <td>3333</td>\n",
              "      <td>3333</td>\n",
              "      <td>3333</td>\n",
              "      <td>...</td>\n",
              "      <td>3333</td>\n",
              "      <td>3333</td>\n",
              "      <td>3333</td>\n",
              "      <td>3333</td>\n",
              "      <td>3333</td>\n",
              "      <td>3333</td>\n",
              "      <td>3333</td>\n",
              "      <td>3333</td>\n",
              "      <td>3333</td>\n",
              "      <td>3333</td>\n",
              "    </tr>\n",
              "    <tr>\n",
              "      <th>1</th>\n",
              "      <td>mean</td>\n",
              "      <td>None</td>\n",
              "      <td>101.06480648064806</td>\n",
              "      <td>437.18241824182417</td>\n",
              "      <td>None</td>\n",
              "      <td>None</td>\n",
              "      <td>None</td>\n",
              "      <td>8.099009900990099</td>\n",
              "      <td>179.77509750975116</td>\n",
              "      <td>100.43564356435644</td>\n",
              "      <td>...</td>\n",
              "      <td>100.11431143114311</td>\n",
              "      <td>17.083540354035392</td>\n",
              "      <td>200.87203720372048</td>\n",
              "      <td>100.10771077107711</td>\n",
              "      <td>9.039324932493264</td>\n",
              "      <td>10.237293729372933</td>\n",
              "      <td>4.4794479447944795</td>\n",
              "      <td>2.764581458145804</td>\n",
              "      <td>1.5628562856285628</td>\n",
              "      <td>None</td>\n",
              "    </tr>\n",
              "    <tr>\n",
              "      <th>2</th>\n",
              "      <td>stddev</td>\n",
              "      <td>None</td>\n",
              "      <td>39.822105928595676</td>\n",
              "      <td>42.37129048560661</td>\n",
              "      <td>None</td>\n",
              "      <td>None</td>\n",
              "      <td>None</td>\n",
              "      <td>13.688365372038598</td>\n",
              "      <td>54.46738920237146</td>\n",
              "      <td>20.069084207300893</td>\n",
              "      <td>...</td>\n",
              "      <td>19.92262529394312</td>\n",
              "      <td>4.310667643110347</td>\n",
              "      <td>50.57384701365836</td>\n",
              "      <td>19.568609346058544</td>\n",
              "      <td>2.275872837660027</td>\n",
              "      <td>2.791839548408416</td>\n",
              "      <td>2.4612142705460953</td>\n",
              "      <td>0.7537726126630451</td>\n",
              "      <td>1.3154910448664752</td>\n",
              "      <td>None</td>\n",
              "    </tr>\n",
              "    <tr>\n",
              "      <th>3</th>\n",
              "      <td>min</td>\n",
              "      <td>AK</td>\n",
              "      <td>1</td>\n",
              "      <td>408</td>\n",
              "      <td>327-1058</td>\n",
              "      <td>no</td>\n",
              "      <td>no</td>\n",
              "      <td>0.0</td>\n",
              "      <td>0.0</td>\n",
              "      <td>0.0</td>\n",
              "      <td>...</td>\n",
              "      <td>0.0</td>\n",
              "      <td>0.0</td>\n",
              "      <td>23.2</td>\n",
              "      <td>33.0</td>\n",
              "      <td>1.04</td>\n",
              "      <td>0.0</td>\n",
              "      <td>0.0</td>\n",
              "      <td>0.0</td>\n",
              "      <td>0.0</td>\n",
              "      <td>False.</td>\n",
              "    </tr>\n",
              "    <tr>\n",
              "      <th>4</th>\n",
              "      <td>25%</td>\n",
              "      <td>None</td>\n",
              "      <td>74.0</td>\n",
              "      <td>408.0</td>\n",
              "      <td>None</td>\n",
              "      <td>None</td>\n",
              "      <td>None</td>\n",
              "      <td>0.0</td>\n",
              "      <td>143.7</td>\n",
              "      <td>87.0</td>\n",
              "      <td>...</td>\n",
              "      <td>87.0</td>\n",
              "      <td>14.16</td>\n",
              "      <td>167.0</td>\n",
              "      <td>87.0</td>\n",
              "      <td>7.52</td>\n",
              "      <td>8.5</td>\n",
              "      <td>3.0</td>\n",
              "      <td>2.3</td>\n",
              "      <td>1.0</td>\n",
              "      <td>None</td>\n",
              "    </tr>\n",
              "    <tr>\n",
              "      <th>5</th>\n",
              "      <td>50%</td>\n",
              "      <td>None</td>\n",
              "      <td>101.0</td>\n",
              "      <td>415.0</td>\n",
              "      <td>None</td>\n",
              "      <td>None</td>\n",
              "      <td>None</td>\n",
              "      <td>0.0</td>\n",
              "      <td>179.4</td>\n",
              "      <td>101.0</td>\n",
              "      <td>...</td>\n",
              "      <td>100.0</td>\n",
              "      <td>17.12</td>\n",
              "      <td>201.2</td>\n",
              "      <td>100.0</td>\n",
              "      <td>9.05</td>\n",
              "      <td>10.3</td>\n",
              "      <td>4.0</td>\n",
              "      <td>2.78</td>\n",
              "      <td>1.0</td>\n",
              "      <td>None</td>\n",
              "    </tr>\n",
              "    <tr>\n",
              "      <th>6</th>\n",
              "      <td>75%</td>\n",
              "      <td>None</td>\n",
              "      <td>127.0</td>\n",
              "      <td>510.0</td>\n",
              "      <td>None</td>\n",
              "      <td>None</td>\n",
              "      <td>None</td>\n",
              "      <td>20.0</td>\n",
              "      <td>216.4</td>\n",
              "      <td>114.0</td>\n",
              "      <td>...</td>\n",
              "      <td>114.0</td>\n",
              "      <td>20.0</td>\n",
              "      <td>235.3</td>\n",
              "      <td>113.0</td>\n",
              "      <td>10.59</td>\n",
              "      <td>12.1</td>\n",
              "      <td>6.0</td>\n",
              "      <td>3.27</td>\n",
              "      <td>2.0</td>\n",
              "      <td>None</td>\n",
              "    </tr>\n",
              "    <tr>\n",
              "      <th>7</th>\n",
              "      <td>max</td>\n",
              "      <td>WY</td>\n",
              "      <td>99</td>\n",
              "      <td>510</td>\n",
              "      <td>422-9964</td>\n",
              "      <td>yes</td>\n",
              "      <td>yes</td>\n",
              "      <td>51.0</td>\n",
              "      <td>350.8</td>\n",
              "      <td>165.0</td>\n",
              "      <td>...</td>\n",
              "      <td>170.0</td>\n",
              "      <td>30.91</td>\n",
              "      <td>395.0</td>\n",
              "      <td>175.0</td>\n",
              "      <td>17.77</td>\n",
              "      <td>20.0</td>\n",
              "      <td>20.0</td>\n",
              "      <td>5.4</td>\n",
              "      <td>9.0</td>\n",
              "      <td>True.</td>\n",
              "    </tr>\n",
              "  </tbody>\n",
              "</table>\n",
              "<p>8 rows × 22 columns</p>\n",
              "</div>\n",
              "      <button class=\"colab-df-convert\" onclick=\"convertToInteractive('df-87c5088f-66b5-4a71-a0a7-ee8827e41d3e')\"\n",
              "              title=\"Convert this dataframe to an interactive table.\"\n",
              "              style=\"display:none;\">\n",
              "        \n",
              "  <svg xmlns=\"http://www.w3.org/2000/svg\" height=\"24px\"viewBox=\"0 0 24 24\"\n",
              "       width=\"24px\">\n",
              "    <path d=\"M0 0h24v24H0V0z\" fill=\"none\"/>\n",
              "    <path d=\"M18.56 5.44l.94 2.06.94-2.06 2.06-.94-2.06-.94-.94-2.06-.94 2.06-2.06.94zm-11 1L8.5 8.5l.94-2.06 2.06-.94-2.06-.94L8.5 2.5l-.94 2.06-2.06.94zm10 10l.94 2.06.94-2.06 2.06-.94-2.06-.94-.94-2.06-.94 2.06-2.06.94z\"/><path d=\"M17.41 7.96l-1.37-1.37c-.4-.4-.92-.59-1.43-.59-.52 0-1.04.2-1.43.59L10.3 9.45l-7.72 7.72c-.78.78-.78 2.05 0 2.83L4 21.41c.39.39.9.59 1.41.59.51 0 1.02-.2 1.41-.59l7.78-7.78 2.81-2.81c.8-.78.8-2.07 0-2.86zM5.41 20L4 18.59l7.72-7.72 1.47 1.35L5.41 20z\"/>\n",
              "  </svg>\n",
              "      </button>\n",
              "      \n",
              "  <style>\n",
              "    .colab-df-container {\n",
              "      display:flex;\n",
              "      flex-wrap:wrap;\n",
              "      gap: 12px;\n",
              "    }\n",
              "\n",
              "    .colab-df-convert {\n",
              "      background-color: #E8F0FE;\n",
              "      border: none;\n",
              "      border-radius: 50%;\n",
              "      cursor: pointer;\n",
              "      display: none;\n",
              "      fill: #1967D2;\n",
              "      height: 32px;\n",
              "      padding: 0 0 0 0;\n",
              "      width: 32px;\n",
              "    }\n",
              "\n",
              "    .colab-df-convert:hover {\n",
              "      background-color: #E2EBFA;\n",
              "      box-shadow: 0px 1px 2px rgba(60, 64, 67, 0.3), 0px 1px 3px 1px rgba(60, 64, 67, 0.15);\n",
              "      fill: #174EA6;\n",
              "    }\n",
              "\n",
              "    [theme=dark] .colab-df-convert {\n",
              "      background-color: #3B4455;\n",
              "      fill: #D2E3FC;\n",
              "    }\n",
              "\n",
              "    [theme=dark] .colab-df-convert:hover {\n",
              "      background-color: #434B5C;\n",
              "      box-shadow: 0px 1px 3px 1px rgba(0, 0, 0, 0.15);\n",
              "      filter: drop-shadow(0px 1px 2px rgba(0, 0, 0, 0.3));\n",
              "      fill: #FFFFFF;\n",
              "    }\n",
              "  </style>\n",
              "\n",
              "      <script>\n",
              "        const buttonEl =\n",
              "          document.querySelector('#df-87c5088f-66b5-4a71-a0a7-ee8827e41d3e button.colab-df-convert');\n",
              "        buttonEl.style.display =\n",
              "          google.colab.kernel.accessAllowed ? 'block' : 'none';\n",
              "\n",
              "        async function convertToInteractive(key) {\n",
              "          const element = document.querySelector('#df-87c5088f-66b5-4a71-a0a7-ee8827e41d3e');\n",
              "          const dataTable =\n",
              "            await google.colab.kernel.invokeFunction('convertToInteractive',\n",
              "                                                     [key], {});\n",
              "          if (!dataTable) return;\n",
              "\n",
              "          const docLinkHtml = 'Like what you see? Visit the ' +\n",
              "            '<a target=\"_blank\" href=https://colab.research.google.com/notebooks/data_table.ipynb>data table notebook</a>'\n",
              "            + ' to learn more about interactive tables.';\n",
              "          element.innerHTML = '';\n",
              "          dataTable['output_type'] = 'display_data';\n",
              "          await google.colab.output.renderOutput(dataTable, element);\n",
              "          const docLink = document.createElement('div');\n",
              "          docLink.innerHTML = docLinkHtml;\n",
              "          element.appendChild(docLink);\n",
              "        }\n",
              "      </script>\n",
              "    </div>\n",
              "  </div>\n",
              "  "
            ]
          },
          "metadata": {},
          "execution_count": 47
        }
      ],
      "source": [
        "df_telco_summary"
      ]
    },
    {
      "cell_type": "code",
      "execution_count": 48,
      "metadata": {
        "id": "P76XAgungE5W"
      },
      "outputs": [],
      "source": [
        "final_df = df_telco.na.drop()"
      ]
    },
    {
      "cell_type": "markdown",
      "metadata": {
        "id": "a2JHTF2egE5W"
      },
      "source": [
        "### Transformación de registros\n",
        "\n",
        "En general para realizar una transformación a una columna se usa la función withColumn\n",
        "\n",
        "* Borrar prosibles espacios vacios. Se usa la funcion **trim**"
      ]
    },
    {
      "cell_type": "code",
      "execution_count": 49,
      "metadata": {
        "id": "QNEOTHAvgE5W",
        "outputId": "a82774ec-81bf-4cdf-dc1e-d43976ce4f92",
        "colab": {
          "base_uri": "https://localhost:8080/"
        }
      },
      "outputs": [
        {
          "output_type": "stream",
          "name": "stdout",
          "text": [
            "+-------+-----+\n",
            "|  churn|count|\n",
            "+-------+-----+\n",
            "| False.| 2850|\n",
            "|  True.|  483|\n",
            "+-------+-----+\n",
            "\n"
          ]
        }
      ],
      "source": [
        "final_df.groupBy(F.col('churn')).count().show()"
      ]
    },
    {
      "cell_type": "code",
      "execution_count": 50,
      "metadata": {
        "id": "Zv7glZs6gE5W"
      },
      "outputs": [],
      "source": [
        "final_df = final_df.withColumn('churn', F.trim(final_df.churn))"
      ]
    },
    {
      "cell_type": "code",
      "execution_count": 51,
      "metadata": {
        "id": "iGi7n8VkgE5X",
        "outputId": "15cd125f-ea1a-4c76-eddd-a373a724d7e3",
        "colab": {
          "base_uri": "https://localhost:8080/"
        }
      },
      "outputs": [
        {
          "output_type": "stream",
          "name": "stdout",
          "text": [
            "+------+-----+\n",
            "| churn|count|\n",
            "+------+-----+\n",
            "| True.|  483|\n",
            "|False.| 2850|\n",
            "+------+-----+\n",
            "\n"
          ]
        }
      ],
      "source": [
        "final_df.groupBy(F.col('churn')).count().show()"
      ]
    },
    {
      "cell_type": "markdown",
      "metadata": {
        "id": "Bx01oeq8gE5X"
      },
      "source": [
        "## Feature engineering\n",
        "\n",
        "Se realiza una transformación de variables cualitativas.\n",
        "\n",
        "Los modelos de ML no interpretan palabras o textos, estos deben ser convertidos a números.\n",
        "\n",
        "Una de estas transformaciones es el one-hot-encoding\n",
        "\n",
        "![image.png](data:image/png;base64,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)"
      ]
    },
    {
      "cell_type": "code",
      "execution_count": 70,
      "metadata": {
        "id": "c6uIAC2ogE5X"
      },
      "outputs": [],
      "source": [
        "df_telco_final = final_df.select([\n",
        " 'state',\n",
        " 'area_code',\n",
        " 'international_plan',\n",
        " 'voice_mail_plan',\n",
        " 'number_vmail_messages',\n",
        " 'total_day_minutes',\n",
        " 'total_day_calls',\n",
        " 'total_day_charge',\n",
        " 'total_eve_minutes',\n",
        " 'total_eve_calls',\n",
        " 'total_eve_charge',\n",
        " 'total_night_minutes',\n",
        " 'total_night_calls',\n",
        " 'total_night_charge',\n",
        " 'total_intl_minutes',\n",
        " 'total_intl_calls',\n",
        " 'total_intl_charge',\n",
        " 'number_customer_service_calls',\n",
        " \"churn\"])"
      ]
    },
    {
      "cell_type": "markdown",
      "source": [
        "Para realizar ingeniería de caracteristicas pyspark tienen una serie de herramientas disponibles en el modulo **feature**\n",
        "\n",
        "**VectorAssembler** Es un transformador que combina una lista de columnas en un único vector columna. Es usado para combinar columnas originales con transformadas en un simple vector.\n",
        "\n",
        "**OneHotEncoder** Realiza la transformación one-hot-encoding\n",
        "\n",
        "**StringIndexer** Codifica una columna de etiquetas a una columna de etiquetas de números. El orden de asignación de etiquetas numéricas esta en función a la frecuencia de las etiquetas de texto. Significa que 0 corrresponde a la etiqueta mas frecuente y asi.\n",
        "\n",
        "\n",
        "https://spark.apache.org/docs/latest/ml-features\n"
      ],
      "metadata": {
        "id": "hDTC804bgdsx"
      }
    },
    {
      "cell_type": "code",
      "execution_count": 120,
      "metadata": {
        "id": "9KPOEZCEgE5X"
      },
      "outputs": [],
      "source": [
        "from pyspark.ml.feature import VectorAssembler, OneHotEncoder, StringIndexer"
      ]
    },
    {
      "cell_type": "markdown",
      "metadata": {
        "id": "3rWJUy0EgE5Y"
      },
      "source": [
        "one hot encoding international_plan"
      ]
    },
    {
      "cell_type": "code",
      "execution_count": 121,
      "metadata": {
        "id": "y1gIjEbEgE5Y"
      },
      "outputs": [],
      "source": [
        "international_plan_indexer = StringIndexer(inputCol='international_plan', outputCol= 'international_planIndex')"
      ]
    },
    {
      "cell_type": "code",
      "source": [
        "type(international_plan_indexer)"
      ],
      "metadata": {
        "id": "i5ZIkNB1lSzA",
        "outputId": "06adc60d-0f1d-4299-e0df-036179ace9c0",
        "colab": {
          "base_uri": "https://localhost:8080/"
        }
      },
      "execution_count": 122,
      "outputs": [
        {
          "output_type": "execute_result",
          "data": {
            "text/plain": [
              "pyspark.ml.feature.StringIndexer"
            ]
          },
          "metadata": {},
          "execution_count": 122
        }
      ]
    },
    {
      "cell_type": "code",
      "execution_count": 123,
      "metadata": {
        "id": "chN0y1xrgE5Y"
      },
      "outputs": [],
      "source": [
        "international_plan_encoder = OneHotEncoder(inputCol = 'international_planIndex', outputCol= 'international_planVec')"
      ]
    },
    {
      "cell_type": "code",
      "source": [
        "type(international_plan_encoder)"
      ],
      "metadata": {
        "id": "P1Pn7DnTloDJ",
        "outputId": "aeec580a-0649-40bb-dea7-05283ae18de7",
        "colab": {
          "base_uri": "https://localhost:8080/"
        }
      },
      "execution_count": 124,
      "outputs": [
        {
          "output_type": "execute_result",
          "data": {
            "text/plain": [
              "pyspark.ml.feature.OneHotEncoder"
            ]
          },
          "metadata": {},
          "execution_count": 124
        }
      ]
    },
    {
      "cell_type": "markdown",
      "metadata": {
        "id": "wORns3JVgE5X"
      },
      "source": [
        "one hot encoding State"
      ]
    },
    {
      "cell_type": "code",
      "execution_count": 125,
      "metadata": {
        "id": "Vr5UR-hBgE5X"
      },
      "outputs": [],
      "source": [
        "state_indexer = StringIndexer(inputCol= 'state', outputCol= 'stateIndex')"
      ]
    },
    {
      "cell_type": "code",
      "execution_count": 126,
      "metadata": {
        "id": "fqeD1cZ3gE5Y"
      },
      "outputs": [],
      "source": [
        "state_encoder = OneHotEncoder(inputCol = 'stateIndex', outputCol= 'stateVec')"
      ]
    },
    {
      "cell_type": "markdown",
      "metadata": {
        "id": "vBA2pwL4gE5Y"
      },
      "source": [
        "one hot encoding area_code"
      ]
    },
    {
      "cell_type": "code",
      "execution_count": 127,
      "metadata": {
        "id": "vL1dExXHgE5Y"
      },
      "outputs": [],
      "source": [
        "area_code_indexer = StringIndexer(inputCol='area_code', outputCol= 'area_codeIndex')"
      ]
    },
    {
      "cell_type": "code",
      "execution_count": 128,
      "metadata": {
        "id": "23oa8GiCgE5Y"
      },
      "outputs": [],
      "source": [
        "area_code_encoder = OneHotEncoder(inputCol = 'area_codeIndex', outputCol= 'area_codeVec')"
      ]
    },
    {
      "cell_type": "markdown",
      "metadata": {
        "id": "ONKGb2B9gE5Y"
      },
      "source": [
        "one hot encoding voice_mail_plan"
      ]
    },
    {
      "cell_type": "code",
      "execution_count": 129,
      "metadata": {
        "id": "5K0wW1INgE5Z"
      },
      "outputs": [],
      "source": [
        "voice_mail_plan_indexer = StringIndexer(inputCol='voice_mail_plan', outputCol= 'voice_mail_planIndex')"
      ]
    },
    {
      "cell_type": "code",
      "execution_count": 130,
      "metadata": {
        "id": "-3lhrTK9gE5Z"
      },
      "outputs": [],
      "source": [
        "voice_mail_plan_encoder = OneHotEncoder(inputCol = 'voice_mail_planIndex', outputCol= 'voice_mail_planVec')"
      ]
    },
    {
      "cell_type": "code",
      "execution_count": 131,
      "metadata": {
        "id": "Mx2RqAtWgE5Z"
      },
      "outputs": [],
      "source": [
        "churn_indexer = StringIndexer(inputCol= 'churn', outputCol= 'churnIndex')"
      ]
    },
    {
      "cell_type": "code",
      "execution_count": 132,
      "metadata": {
        "id": "jCby4mTXgE5Z"
      },
      "outputs": [],
      "source": [
        "# 'stateVec',\n",
        "assembler = VectorAssembler(inputCols = [ 'area_codeVec', 'international_planVec', 'voice_mail_planVec',\n",
        "                                        'number_vmail_messages',\n",
        "                                         'total_day_minutes',\n",
        "                                         'total_day_calls',\n",
        "                                         'total_day_charge',\n",
        "                                         'total_eve_minutes',\n",
        "                                         'total_eve_calls',\n",
        "                                         'total_eve_charge',\n",
        "                                         'total_night_minutes',\n",
        "                                         'total_night_calls',\n",
        "                                         'total_night_charge',\n",
        "                                         'total_intl_minutes',\n",
        "                                         'total_intl_calls',\n",
        "                                         'total_intl_charge',\n",
        "                                         'number_customer_service_calls'\n",
        "                                        ], outputCol= 'features')"
      ]
    },
    {
      "cell_type": "markdown",
      "metadata": {
        "id": "cZoy8mDfgE5Z"
      },
      "source": [
        "Seleccionando las variables que se usarán en el análisis cluster"
      ]
    },
    {
      "cell_type": "code",
      "execution_count": 133,
      "metadata": {
        "id": "NKhWSSDkgE5a",
        "outputId": "9f9443cb-8830-4330-b08d-e1e5b48bddc4",
        "colab": {
          "base_uri": "https://localhost:8080/"
        }
      },
      "outputs": [
        {
          "output_type": "execute_result",
          "data": {
            "text/plain": [
              "['state',\n",
              " 'area_code',\n",
              " 'international_plan',\n",
              " 'voice_mail_plan',\n",
              " 'number_vmail_messages',\n",
              " 'total_day_minutes',\n",
              " 'total_day_calls',\n",
              " 'total_day_charge',\n",
              " 'total_eve_minutes',\n",
              " 'total_eve_calls',\n",
              " 'total_eve_charge',\n",
              " 'total_night_minutes',\n",
              " 'total_night_calls',\n",
              " 'total_night_charge',\n",
              " 'total_intl_minutes',\n",
              " 'total_intl_calls',\n",
              " 'total_intl_charge',\n",
              " 'number_customer_service_calls',\n",
              " 'churn']"
            ]
          },
          "metadata": {},
          "execution_count": 133
        }
      ],
      "source": [
        "df_telco_final.columns"
      ]
    },
    {
      "cell_type": "code",
      "execution_count": 134,
      "metadata": {
        "id": "KBfgWZusgE5a"
      },
      "outputs": [],
      "source": [
        "#  Quitando la variable churn que sirve para un modelo de aprendizaje supervizado\n",
        "\n",
        "df_telco_col_seg = df_telco_final.select([\n",
        " # 'state',\n",
        " 'area_code',\n",
        " 'international_plan',\n",
        " 'voice_mail_plan',   \n",
        " 'number_vmail_messages',\n",
        " 'total_day_minutes',\n",
        " 'total_day_calls',\n",
        " 'total_day_charge',\n",
        " 'total_eve_minutes',\n",
        " 'total_eve_calls',\n",
        " 'total_eve_charge',\n",
        " 'total_night_minutes',\n",
        " 'total_night_calls',\n",
        " 'total_night_charge',\n",
        " 'total_intl_minutes',\n",
        " 'total_intl_calls',\n",
        " 'total_intl_charge',\n",
        " 'number_customer_service_calls'])"
      ]
    },
    {
      "cell_type": "markdown",
      "source": [
        "## Modelado \n",
        "\n",
        "Debido a que el problema de negocio tiene que ver con la identificación de grupos, se usará un algoritmo de clustering que se basa en distancias con la finalidad de crear grupos que se convertiran en segmentos.\n",
        "\n",
        "### Pipelines\n",
        "\n",
        "Los ML Pipelines proveen un conjunto de APIS construidas sobre los DataFrames que ayudan a crear y tunear pipelines de ML.\n",
        "\n",
        "Se pueden combinar multiples algoritmos en un simple pipeline.\n",
        "\n",
        "- **DataFrame** Esta ML API usa dataframes Spark SQL, los cuales al igual que Pandas pueden almacenar diferentes tipos de datos. Ej: Un dataframe puede almacenar texto, vectores de caracteristicas, etiquetas verdadero/falso y predicciones.\n",
        "\n",
        "- **Transformer**  Un transformer es un algoritmo que puede transformar un dataframe en otro dataframe. Ej: un modelo de ML es un transformer que transforma un dataframa con caracteristicas en un dataframe con predicciones.\n",
        "\n",
        "- **Estimador** Un estimador es un algoritmo que puede ajustar sombre un dataframe para producir un transformer. Ej. Un algoritmo de aprendizaje es un estimador el cual entrega sobre un dataframe y produce un modelo\n",
        "\n",
        "- **Pipeline** Un pipeline es una cadena de multiples transformaciones y estimadores juntos para especificar un flujo de trabajo ML.\n",
        "\n",
        "## Componentes de un pipeline\n",
        "\n",
        "En ML es común ejecutar una secuencia de algoritmos para procesar y aprender de los datos. Ej:\n",
        "\n",
        "- Realizar un one hot encoding\n",
        "\n",
        "MLlib representado como un flujo de Pipeline, el cual consiste de uns secuencia de PipelineStages (Estimadores y transformers) para ser ejecutados en un orden específico. \n",
        "\n",
        "Para los stage transformadores, el método transform() es llamado sobre el DataFrame. Para los stage estimadores, el método fit() es llamado.\n",
        "\n",
        "\n",
        "https://spark.apache.org/docs/latest/ml-pipeline.html\n",
        "\n",
        "https://spark.apache.org/docs/latest/ml-clustering.html\n",
        "\n",
        "https://spark.apache.org/docs/latest/api/python/reference/api/pyspark.ml.evaluation.ClusteringEvaluator.html#pyspark.ml.evaluation.ClusteringEvaluator\n",
        "\n",
        "\n",
        "\n"
      ],
      "metadata": {
        "id": "H_Uy7PpWcS0H"
      }
    },
    {
      "cell_type": "code",
      "execution_count": 135,
      "metadata": {
        "id": "wrOpGOeZgE5a"
      },
      "outputs": [],
      "source": [
        "from pyspark.ml.clustering import KMeans\n",
        "from pyspark.ml.evaluation import ClusteringEvaluator"
      ]
    },
    {
      "cell_type": "code",
      "execution_count": 136,
      "metadata": {
        "id": "T96LFY3CgE5a"
      },
      "outputs": [],
      "source": [
        "from pyspark.ml import Pipeline"
      ]
    },
    {
      "cell_type": "code",
      "execution_count": 137,
      "metadata": {
        "id": "B9isaENFgE5a"
      },
      "outputs": [],
      "source": [
        "kmeans = KMeans().setK(5).setSeed(1)"
      ]
    },
    {
      "cell_type": "code",
      "execution_count": 138,
      "metadata": {
        "id": "7FZQvQ5vgE5b"
      },
      "outputs": [],
      "source": [
        "pipeline = Pipeline(stages= [\n",
        "    # state_indexer,\n",
        "    area_code_indexer,\n",
        "    international_plan_indexer,\n",
        "    voice_mail_plan_indexer,\n",
        "    # state_encoder,\n",
        "    area_code_encoder,\n",
        "    international_plan_encoder,\n",
        "    voice_mail_plan_encoder,\n",
        "    assembler, \n",
        "    kmeans])"
      ]
    },
    {
      "cell_type": "code",
      "execution_count": 139,
      "metadata": {
        "id": "Ck5uCMXDgE5b"
      },
      "outputs": [],
      "source": [
        "train_data, test_data = df_telco_col_seg.randomSplit([0.7,0.3])"
      ]
    },
    {
      "cell_type": "code",
      "execution_count": 140,
      "metadata": {
        "id": "2HzOPaaAgE5b"
      },
      "outputs": [],
      "source": [
        "fit_model = pipeline.fit(train_data)"
      ]
    },
    {
      "cell_type": "code",
      "execution_count": 141,
      "metadata": {
        "id": "JgZaJw4ogE5c",
        "outputId": "a894b5d2-9c20-42ad-b204-2cf110811260",
        "colab": {
          "base_uri": "https://localhost:8080/"
        }
      },
      "outputs": [
        {
          "output_type": "execute_result",
          "data": {
            "text/plain": [
              "pyspark.ml.pipeline.PipelineModel"
            ]
          },
          "metadata": {},
          "execution_count": 141
        }
      ],
      "source": [
        "type(fit_model)"
      ]
    },
    {
      "cell_type": "markdown",
      "metadata": {
        "id": "2vyrLcjigE5c"
      },
      "source": [
        "realizar clusterizaciones"
      ]
    },
    {
      "cell_type": "code",
      "execution_count": 142,
      "metadata": {
        "id": "snPIeRGFgE5c"
      },
      "outputs": [],
      "source": [
        "predictions = fit_model.transform(test_data)"
      ]
    },
    {
      "cell_type": "code",
      "execution_count": 150,
      "metadata": {
        "id": "_DYrYKxBgE5d",
        "outputId": "7e8b87c0-0548-45d6-98be-6018546ef478",
        "colab": {
          "base_uri": "https://localhost:8080/"
        }
      },
      "outputs": [
        {
          "output_type": "stream",
          "name": "stdout",
          "text": [
            "+---------+------------------+---------------+---------------------+-----------------+---------------+----------------+-----------------+---------------+----------------+-------------------+-----------------+------------------+------------------+----------------+-----------------+-----------------------------+--------------+-----------------------+--------------------+-------------+---------------------+------------------+--------------------+----------+\n",
            "|area_code|international_plan|voice_mail_plan|number_vmail_messages|total_day_minutes|total_day_calls|total_day_charge|total_eve_minutes|total_eve_calls|total_eve_charge|total_night_minutes|total_night_calls|total_night_charge|total_intl_minutes|total_intl_calls|total_intl_charge|number_customer_service_calls|area_codeIndex|international_planIndex|voice_mail_planIndex| area_codeVec|international_planVec|voice_mail_planVec|            features|prediction|\n",
            "+---------+------------------+---------------+---------------------+-----------------+---------------+----------------+-----------------+---------------+----------------+-------------------+-----------------+------------------+------------------+----------------+-----------------+-----------------------------+--------------+-----------------------+--------------------+-------------+---------------------+------------------+--------------------+----------+\n",
            "|      408|                no|             no|                  0.0|             39.5|           78.0|            6.72|            264.3|          106.0|           22.47|              185.8|             90.0|              8.36|              10.0|             6.0|              2.7|                          0.0|           1.0|                    0.0|                 0.0|(2,[1],[1.0])|        (1,[0],[1.0])|     (1,[0],[1.0])|[0.0,1.0,1.0,1.0,...|         0|\n",
            "|      408|                no|             no|                  0.0|             51.1|          106.0|            8.69|            208.6|          137.0|           17.73|              198.0|             92.0|              8.91|              12.3|             3.0|             3.32|                          1.0|           1.0|                    0.0|                 0.0|(2,[1],[1.0])|        (1,[0],[1.0])|     (1,[0],[1.0])|[0.0,1.0,1.0,1.0,...|         0|\n",
            "|      408|                no|             no|                  0.0|             54.8|           92.0|            9.32|            173.0|          103.0|           14.71|              195.1|            125.0|              8.78|               7.5|             3.0|             2.03|                          1.0|           1.0|                    0.0|                 0.0|(2,[1],[1.0])|        (1,[0],[1.0])|     (1,[0],[1.0])|[0.0,1.0,1.0,1.0,...|         3|\n",
            "|      408|                no|             no|                  0.0|             61.3|           91.0|           10.42|            194.4|           94.0|           16.52|              143.1|             80.0|              6.44|              11.4|             9.0|             3.08|                          1.0|           1.0|                    0.0|                 0.0|(2,[1],[1.0])|        (1,[0],[1.0])|     (1,[0],[1.0])|[0.0,1.0,1.0,1.0,...|         0|\n",
            "|      408|                no|             no|                  0.0|             61.6|          117.0|           10.47|             77.1|           85.0|            6.55|              173.0|             99.0|              7.79|               8.2|             7.0|             2.21|                          4.0|           1.0|                    0.0|                 0.0|(2,[1],[1.0])|        (1,[0],[1.0])|     (1,[0],[1.0])|[0.0,1.0,1.0,1.0,...|         3|\n",
            "|      408|                no|             no|                  0.0|             62.4|           89.0|           10.61|            169.9|          121.0|           14.44|              209.6|             64.0|              9.43|               5.7|             6.0|             1.54|                          5.0|           1.0|                    0.0|                 0.0|(2,[1],[1.0])|        (1,[0],[1.0])|     (1,[0],[1.0])|[0.0,1.0,1.0,1.0,...|         3|\n",
            "|      408|                no|             no|                  0.0|             69.1|          117.0|           11.75|            136.3|          100.0|           11.59|              181.7|             53.0|              8.18|               6.3|             3.0|              1.7|                          1.0|           1.0|                    0.0|                 0.0|(2,[1],[1.0])|        (1,[0],[1.0])|     (1,[0],[1.0])|[0.0,1.0,1.0,1.0,...|         3|\n",
            "|      408|                no|             no|                  0.0|             82.7|          116.0|           14.06|            194.6|           95.0|           16.54|              159.0|             54.0|              7.15|              10.9|             9.0|             2.94|                          0.0|           1.0|                    0.0|                 0.0|(2,[1],[1.0])|        (1,[0],[1.0])|     (1,[0],[1.0])|[0.0,1.0,1.0,1.0,...|         0|\n",
            "|      408|                no|             no|                  0.0|             83.2|           74.0|           14.14|            190.6|          104.0|            16.2|              150.5|             79.0|              6.77|              10.7|             7.0|             2.89|                          1.0|           1.0|                    0.0|                 0.0|(2,[1],[1.0])|        (1,[0],[1.0])|     (1,[0],[1.0])|[0.0,1.0,1.0,1.0,...|         0|\n",
            "|      408|                no|             no|                  0.0|             83.8|          121.0|           14.25|            240.2|           96.0|           20.42|              158.6|            108.0|              7.14|               6.7|             8.0|             1.81|                          1.0|           1.0|                    0.0|                 0.0|(2,[1],[1.0])|        (1,[0],[1.0])|     (1,[0],[1.0])|[0.0,1.0,1.0,1.0,...|         0|\n",
            "+---------+------------------+---------------+---------------------+-----------------+---------------+----------------+-----------------+---------------+----------------+-------------------+-----------------+------------------+------------------+----------------+-----------------+-----------------------------+--------------+-----------------------+--------------------+-------------+---------------------+------------------+--------------------+----------+\n",
            "only showing top 10 rows\n",
            "\n"
          ]
        }
      ],
      "source": [
        "predictions.show(10)"
      ]
    },
    {
      "cell_type": "code",
      "source": [
        "predictions.sort(F.desc('voice_mail_plan')).show(5)"
      ],
      "metadata": {
        "id": "iBAT0pNfwVZZ",
        "outputId": "5414de33-1f2a-45ef-e7bd-8071c35258ac",
        "colab": {
          "base_uri": "https://localhost:8080/"
        }
      },
      "execution_count": 155,
      "outputs": [
        {
          "output_type": "stream",
          "name": "stdout",
          "text": [
            "+---------+------------------+---------------+---------------------+-----------------+---------------+----------------+-----------------+---------------+----------------+-------------------+-----------------+------------------+------------------+----------------+-----------------+-----------------------------+--------------+-----------------------+--------------------+-------------+---------------------+------------------+--------------------+----------+\n",
            "|area_code|international_plan|voice_mail_plan|number_vmail_messages|total_day_minutes|total_day_calls|total_day_charge|total_eve_minutes|total_eve_calls|total_eve_charge|total_night_minutes|total_night_calls|total_night_charge|total_intl_minutes|total_intl_calls|total_intl_charge|number_customer_service_calls|area_codeIndex|international_planIndex|voice_mail_planIndex| area_codeVec|international_planVec|voice_mail_planVec|            features|prediction|\n",
            "+---------+------------------+---------------+---------------------+-----------------+---------------+----------------+-----------------+---------------+----------------+-------------------+-----------------+------------------+------------------+----------------+-----------------+-----------------------------+--------------+-----------------------+--------------------+-------------+---------------------+------------------+--------------------+----------+\n",
            "|      408|                no|            yes|                 14.0|             80.2|           81.0|           13.63|            219.0|          103.0|           18.62|              122.6|            102.0|              5.52|               8.6|             2.0|             2.32|                          1.0|           1.0|                    0.0|                 1.0|(2,[1],[1.0])|        (1,[0],[1.0])|         (1,[],[])|[0.0,1.0,1.0,0.0,...|         0|\n",
            "|      408|                no|            yes|                 19.0|            154.6|          100.0|           26.28|            241.6|          109.0|           20.54|              160.0|            112.0|               7.2|              12.6|             1.0|              3.4|                          3.0|           1.0|                    0.0|                 1.0|(2,[1],[1.0])|        (1,[0],[1.0])|         (1,[],[])|[0.0,1.0,1.0,0.0,...|         1|\n",
            "|      408|                no|            yes|                 16.0|            118.9|          112.0|           20.21|            228.3|           97.0|           19.41|              180.1|            111.0|               8.1|               8.2|             5.0|             2.21|                          2.0|           1.0|                    0.0|                 1.0|(2,[1],[1.0])|        (1,[0],[1.0])|         (1,[],[])|[0.0,1.0,1.0,0.0,...|         0|\n",
            "|      408|                no|            yes|                 16.0|            145.7|           88.0|           24.77|            191.0|          129.0|           16.24|              215.5|             82.0|               9.7|              11.3|             7.0|             3.05|                          0.0|           1.0|                    0.0|                 1.0|(2,[1],[1.0])|        (1,[0],[1.0])|         (1,[],[])|[0.0,1.0,1.0,0.0,...|         3|\n",
            "|      408|                no|            yes|                 19.0|             87.7|          103.0|           14.91|            223.0|           86.0|           18.96|              182.3|            112.0|               8.2|               7.3|             4.0|             1.97|                          2.0|           1.0|                    0.0|                 1.0|(2,[1],[1.0])|        (1,[0],[1.0])|         (1,[],[])|[0.0,1.0,1.0,0.0,...|         0|\n",
            "+---------+------------------+---------------+---------------------+-----------------+---------------+----------------+-----------------+---------------+----------------+-------------------+-----------------+------------------+------------------+----------------+-----------------+-----------------------------+--------------+-----------------------+--------------------+-------------+---------------------+------------------+--------------------+----------+\n",
            "only showing top 5 rows\n",
            "\n"
          ]
        }
      ]
    },
    {
      "cell_type": "markdown",
      "metadata": {
        "id": "YpC5C25SgE5d"
      },
      "source": [
        "para observar de mejor manera se puede obtener una muestra y convertirlo en un dataframe Pandas"
      ]
    },
    {
      "cell_type": "code",
      "execution_count": 144,
      "metadata": {
        "id": "MXMjdOtsgE5d"
      },
      "outputs": [],
      "source": [
        "predictions_pandas = predictions.sample(fraction=0.5).toPandas()"
      ]
    },
    {
      "cell_type": "code",
      "execution_count": 145,
      "metadata": {
        "id": "-Dsk5Yb9gE5e",
        "outputId": "21e0e02c-9bc5-4cc9-b8e8-8d5cbeae500a",
        "colab": {
          "base_uri": "https://localhost:8080/",
          "height": 699
        }
      },
      "outputs": [
        {
          "output_type": "execute_result",
          "data": {
            "text/plain": [
              "  area_code international_plan voice_mail_plan  number_vmail_messages  \\\n",
              "0       408                 no              no                    0.0   \n",
              "1       408                 no              no                    0.0   \n",
              "2       408                 no              no                    0.0   \n",
              "3       408                 no              no                    0.0   \n",
              "4       408                 no              no                    0.0   \n",
              "\n",
              "   total_day_minutes  total_day_calls  total_day_charge  total_eve_minutes  \\\n",
              "0               39.5             78.0              6.72              264.3   \n",
              "1               54.8             92.0              9.32              173.0   \n",
              "2               61.3             91.0             10.42              194.4   \n",
              "3               61.6            117.0             10.47               77.1   \n",
              "4               69.1            117.0             11.75              136.3   \n",
              "\n",
              "   total_eve_calls  total_eve_charge  ...  total_intl_charge  \\\n",
              "0            106.0             22.47  ...               2.70   \n",
              "1            103.0             14.71  ...               2.03   \n",
              "2             94.0             16.52  ...               3.08   \n",
              "3             85.0              6.55  ...               2.21   \n",
              "4            100.0             11.59  ...               1.70   \n",
              "\n",
              "   number_customer_service_calls  area_codeIndex  international_planIndex  \\\n",
              "0                            0.0             1.0                      0.0   \n",
              "1                            1.0             1.0                      0.0   \n",
              "2                            1.0             1.0                      0.0   \n",
              "3                            4.0             1.0                      0.0   \n",
              "4                            1.0             1.0                      0.0   \n",
              "\n",
              "   voice_mail_planIndex  area_codeVec  international_planVec  \\\n",
              "0                   0.0    (0.0, 1.0)                  (1.0)   \n",
              "1                   0.0    (0.0, 1.0)                  (1.0)   \n",
              "2                   0.0    (0.0, 1.0)                  (1.0)   \n",
              "3                   0.0    (0.0, 1.0)                  (1.0)   \n",
              "4                   0.0    (0.0, 1.0)                  (1.0)   \n",
              "\n",
              "   voice_mail_planVec                                           features  \\\n",
              "0               (1.0)  [0.0, 1.0, 1.0, 1.0, 0.0, 39.5, 78.0, 6.72, 26...   \n",
              "1               (1.0)  [0.0, 1.0, 1.0, 1.0, 0.0, 54.8, 92.0, 9.32, 17...   \n",
              "2               (1.0)  [0.0, 1.0, 1.0, 1.0, 0.0, 61.3, 91.0, 10.42, 1...   \n",
              "3               (1.0)  [0.0, 1.0, 1.0, 1.0, 0.0, 61.6, 117.0, 10.47, ...   \n",
              "4               (1.0)  [0.0, 1.0, 1.0, 1.0, 0.0, 69.1, 117.0, 11.75, ...   \n",
              "\n",
              "   prediction  \n",
              "0           0  \n",
              "1           3  \n",
              "2           0  \n",
              "3           3  \n",
              "4           3  \n",
              "\n",
              "[5 rows x 25 columns]"
            ],
            "text/html": [
              "\n",
              "  <div id=\"df-db45f4ce-d51a-47c1-9f66-f4e22b3f5b4c\">\n",
              "    <div class=\"colab-df-container\">\n",
              "      <div>\n",
              "<style scoped>\n",
              "    .dataframe tbody tr th:only-of-type {\n",
              "        vertical-align: middle;\n",
              "    }\n",
              "\n",
              "    .dataframe tbody tr th {\n",
              "        vertical-align: top;\n",
              "    }\n",
              "\n",
              "    .dataframe thead th {\n",
              "        text-align: right;\n",
              "    }\n",
              "</style>\n",
              "<table border=\"1\" class=\"dataframe\">\n",
              "  <thead>\n",
              "    <tr style=\"text-align: right;\">\n",
              "      <th></th>\n",
              "      <th>area_code</th>\n",
              "      <th>international_plan</th>\n",
              "      <th>voice_mail_plan</th>\n",
              "      <th>number_vmail_messages</th>\n",
              "      <th>total_day_minutes</th>\n",
              "      <th>total_day_calls</th>\n",
              "      <th>total_day_charge</th>\n",
              "      <th>total_eve_minutes</th>\n",
              "      <th>total_eve_calls</th>\n",
              "      <th>total_eve_charge</th>\n",
              "      <th>...</th>\n",
              "      <th>total_intl_charge</th>\n",
              "      <th>number_customer_service_calls</th>\n",
              "      <th>area_codeIndex</th>\n",
              "      <th>international_planIndex</th>\n",
              "      <th>voice_mail_planIndex</th>\n",
              "      <th>area_codeVec</th>\n",
              "      <th>international_planVec</th>\n",
              "      <th>voice_mail_planVec</th>\n",
              "      <th>features</th>\n",
              "      <th>prediction</th>\n",
              "    </tr>\n",
              "  </thead>\n",
              "  <tbody>\n",
              "    <tr>\n",
              "      <th>0</th>\n",
              "      <td>408</td>\n",
              "      <td>no</td>\n",
              "      <td>no</td>\n",
              "      <td>0.0</td>\n",
              "      <td>39.5</td>\n",
              "      <td>78.0</td>\n",
              "      <td>6.72</td>\n",
              "      <td>264.3</td>\n",
              "      <td>106.0</td>\n",
              "      <td>22.47</td>\n",
              "      <td>...</td>\n",
              "      <td>2.70</td>\n",
              "      <td>0.0</td>\n",
              "      <td>1.0</td>\n",
              "      <td>0.0</td>\n",
              "      <td>0.0</td>\n",
              "      <td>(0.0, 1.0)</td>\n",
              "      <td>(1.0)</td>\n",
              "      <td>(1.0)</td>\n",
              "      <td>[0.0, 1.0, 1.0, 1.0, 0.0, 39.5, 78.0, 6.72, 26...</td>\n",
              "      <td>0</td>\n",
              "    </tr>\n",
              "    <tr>\n",
              "      <th>1</th>\n",
              "      <td>408</td>\n",
              "      <td>no</td>\n",
              "      <td>no</td>\n",
              "      <td>0.0</td>\n",
              "      <td>54.8</td>\n",
              "      <td>92.0</td>\n",
              "      <td>9.32</td>\n",
              "      <td>173.0</td>\n",
              "      <td>103.0</td>\n",
              "      <td>14.71</td>\n",
              "      <td>...</td>\n",
              "      <td>2.03</td>\n",
              "      <td>1.0</td>\n",
              "      <td>1.0</td>\n",
              "      <td>0.0</td>\n",
              "      <td>0.0</td>\n",
              "      <td>(0.0, 1.0)</td>\n",
              "      <td>(1.0)</td>\n",
              "      <td>(1.0)</td>\n",
              "      <td>[0.0, 1.0, 1.0, 1.0, 0.0, 54.8, 92.0, 9.32, 17...</td>\n",
              "      <td>3</td>\n",
              "    </tr>\n",
              "    <tr>\n",
              "      <th>2</th>\n",
              "      <td>408</td>\n",
              "      <td>no</td>\n",
              "      <td>no</td>\n",
              "      <td>0.0</td>\n",
              "      <td>61.3</td>\n",
              "      <td>91.0</td>\n",
              "      <td>10.42</td>\n",
              "      <td>194.4</td>\n",
              "      <td>94.0</td>\n",
              "      <td>16.52</td>\n",
              "      <td>...</td>\n",
              "      <td>3.08</td>\n",
              "      <td>1.0</td>\n",
              "      <td>1.0</td>\n",
              "      <td>0.0</td>\n",
              "      <td>0.0</td>\n",
              "      <td>(0.0, 1.0)</td>\n",
              "      <td>(1.0)</td>\n",
              "      <td>(1.0)</td>\n",
              "      <td>[0.0, 1.0, 1.0, 1.0, 0.0, 61.3, 91.0, 10.42, 1...</td>\n",
              "      <td>0</td>\n",
              "    </tr>\n",
              "    <tr>\n",
              "      <th>3</th>\n",
              "      <td>408</td>\n",
              "      <td>no</td>\n",
              "      <td>no</td>\n",
              "      <td>0.0</td>\n",
              "      <td>61.6</td>\n",
              "      <td>117.0</td>\n",
              "      <td>10.47</td>\n",
              "      <td>77.1</td>\n",
              "      <td>85.0</td>\n",
              "      <td>6.55</td>\n",
              "      <td>...</td>\n",
              "      <td>2.21</td>\n",
              "      <td>4.0</td>\n",
              "      <td>1.0</td>\n",
              "      <td>0.0</td>\n",
              "      <td>0.0</td>\n",
              "      <td>(0.0, 1.0)</td>\n",
              "      <td>(1.0)</td>\n",
              "      <td>(1.0)</td>\n",
              "      <td>[0.0, 1.0, 1.0, 1.0, 0.0, 61.6, 117.0, 10.47, ...</td>\n",
              "      <td>3</td>\n",
              "    </tr>\n",
              "    <tr>\n",
              "      <th>4</th>\n",
              "      <td>408</td>\n",
              "      <td>no</td>\n",
              "      <td>no</td>\n",
              "      <td>0.0</td>\n",
              "      <td>69.1</td>\n",
              "      <td>117.0</td>\n",
              "      <td>11.75</td>\n",
              "      <td>136.3</td>\n",
              "      <td>100.0</td>\n",
              "      <td>11.59</td>\n",
              "      <td>...</td>\n",
              "      <td>1.70</td>\n",
              "      <td>1.0</td>\n",
              "      <td>1.0</td>\n",
              "      <td>0.0</td>\n",
              "      <td>0.0</td>\n",
              "      <td>(0.0, 1.0)</td>\n",
              "      <td>(1.0)</td>\n",
              "      <td>(1.0)</td>\n",
              "      <td>[0.0, 1.0, 1.0, 1.0, 0.0, 69.1, 117.0, 11.75, ...</td>\n",
              "      <td>3</td>\n",
              "    </tr>\n",
              "  </tbody>\n",
              "</table>\n",
              "<p>5 rows × 25 columns</p>\n",
              "</div>\n",
              "      <button class=\"colab-df-convert\" onclick=\"convertToInteractive('df-db45f4ce-d51a-47c1-9f66-f4e22b3f5b4c')\"\n",
              "              title=\"Convert this dataframe to an interactive table.\"\n",
              "              style=\"display:none;\">\n",
              "        \n",
              "  <svg xmlns=\"http://www.w3.org/2000/svg\" height=\"24px\"viewBox=\"0 0 24 24\"\n",
              "       width=\"24px\">\n",
              "    <path d=\"M0 0h24v24H0V0z\" fill=\"none\"/>\n",
              "    <path d=\"M18.56 5.44l.94 2.06.94-2.06 2.06-.94-2.06-.94-.94-2.06-.94 2.06-2.06.94zm-11 1L8.5 8.5l.94-2.06 2.06-.94-2.06-.94L8.5 2.5l-.94 2.06-2.06.94zm10 10l.94 2.06.94-2.06 2.06-.94-2.06-.94-.94-2.06-.94 2.06-2.06.94z\"/><path d=\"M17.41 7.96l-1.37-1.37c-.4-.4-.92-.59-1.43-.59-.52 0-1.04.2-1.43.59L10.3 9.45l-7.72 7.72c-.78.78-.78 2.05 0 2.83L4 21.41c.39.39.9.59 1.41.59.51 0 1.02-.2 1.41-.59l7.78-7.78 2.81-2.81c.8-.78.8-2.07 0-2.86zM5.41 20L4 18.59l7.72-7.72 1.47 1.35L5.41 20z\"/>\n",
              "  </svg>\n",
              "      </button>\n",
              "      \n",
              "  <style>\n",
              "    .colab-df-container {\n",
              "      display:flex;\n",
              "      flex-wrap:wrap;\n",
              "      gap: 12px;\n",
              "    }\n",
              "\n",
              "    .colab-df-convert {\n",
              "      background-color: #E8F0FE;\n",
              "      border: none;\n",
              "      border-radius: 50%;\n",
              "      cursor: pointer;\n",
              "      display: none;\n",
              "      fill: #1967D2;\n",
              "      height: 32px;\n",
              "      padding: 0 0 0 0;\n",
              "      width: 32px;\n",
              "    }\n",
              "\n",
              "    .colab-df-convert:hover {\n",
              "      background-color: #E2EBFA;\n",
              "      box-shadow: 0px 1px 2px rgba(60, 64, 67, 0.3), 0px 1px 3px 1px rgba(60, 64, 67, 0.15);\n",
              "      fill: #174EA6;\n",
              "    }\n",
              "\n",
              "    [theme=dark] .colab-df-convert {\n",
              "      background-color: #3B4455;\n",
              "      fill: #D2E3FC;\n",
              "    }\n",
              "\n",
              "    [theme=dark] .colab-df-convert:hover {\n",
              "      background-color: #434B5C;\n",
              "      box-shadow: 0px 1px 3px 1px rgba(0, 0, 0, 0.15);\n",
              "      filter: drop-shadow(0px 1px 2px rgba(0, 0, 0, 0.3));\n",
              "      fill: #FFFFFF;\n",
              "    }\n",
              "  </style>\n",
              "\n",
              "      <script>\n",
              "        const buttonEl =\n",
              "          document.querySelector('#df-db45f4ce-d51a-47c1-9f66-f4e22b3f5b4c button.colab-df-convert');\n",
              "        buttonEl.style.display =\n",
              "          google.colab.kernel.accessAllowed ? 'block' : 'none';\n",
              "\n",
              "        async function convertToInteractive(key) {\n",
              "          const element = document.querySelector('#df-db45f4ce-d51a-47c1-9f66-f4e22b3f5b4c');\n",
              "          const dataTable =\n",
              "            await google.colab.kernel.invokeFunction('convertToInteractive',\n",
              "                                                     [key], {});\n",
              "          if (!dataTable) return;\n",
              "\n",
              "          const docLinkHtml = 'Like what you see? Visit the ' +\n",
              "            '<a target=\"_blank\" href=https://colab.research.google.com/notebooks/data_table.ipynb>data table notebook</a>'\n",
              "            + ' to learn more about interactive tables.';\n",
              "          element.innerHTML = '';\n",
              "          dataTable['output_type'] = 'display_data';\n",
              "          await google.colab.output.renderOutput(dataTable, element);\n",
              "          const docLink = document.createElement('div');\n",
              "          docLink.innerHTML = docLinkHtml;\n",
              "          element.appendChild(docLink);\n",
              "        }\n",
              "      </script>\n",
              "    </div>\n",
              "  </div>\n",
              "  "
            ]
          },
          "metadata": {},
          "execution_count": 145
        }
      ],
      "source": [
        "predictions_pandas.head()"
      ]
    },
    {
      "cell_type": "code",
      "execution_count": 146,
      "metadata": {
        "id": "jq_YCjGmgE5e",
        "outputId": "7dc71542-a20e-4f47-df7c-cb1892dbb487",
        "colab": {
          "base_uri": "https://localhost:8080/"
        }
      },
      "outputs": [
        {
          "output_type": "stream",
          "name": "stdout",
          "text": [
            "+----------+-----+\n",
            "|prediction|count|\n",
            "+----------+-----+\n",
            "|         1|  194|\n",
            "|         3|  223|\n",
            "|         4|  180|\n",
            "|         2|  231|\n",
            "|         0|  163|\n",
            "+----------+-----+\n",
            "\n"
          ]
        }
      ],
      "source": [
        "predictions.groupBy(F.col('prediction')).count().show()"
      ]
    },
    {
      "cell_type": "code",
      "execution_count": 147,
      "metadata": {
        "id": "P_yF68DOgE5e",
        "outputId": "70d47efc-d52e-4bb0-ce6f-deac2602b8e9",
        "colab": {
          "base_uri": "https://localhost:8080/"
        }
      },
      "outputs": [
        {
          "output_type": "execute_result",
          "data": {
            "text/plain": [
              "2    133\n",
              "3    111\n",
              "1     98\n",
              "4     91\n",
              "0     81\n",
              "Name: prediction, dtype: int64"
            ]
          },
          "metadata": {},
          "execution_count": 147
        }
      ],
      "source": [
        "predictions_pandas['prediction'].value_counts()"
      ]
    },
    {
      "cell_type": "markdown",
      "metadata": {
        "id": "j4cpuzHogE5e"
      },
      "source": [
        "Evaluar mediante el coeficiente de Silhouette\n",
        "\n",
        "El coeficiente Silhouette se encuentra entre - 1 y 1 siendo lo mejor 1 y lo peor -1, el valor 0 indica que los clusters estan sobreponiendo"
      ]
    },
    {
      "cell_type": "code",
      "execution_count": 148,
      "metadata": {
        "id": "zD68i9u6gE5e"
      },
      "outputs": [],
      "source": [
        "evaluador = ClusteringEvaluator()"
      ]
    },
    {
      "cell_type": "code",
      "execution_count": 149,
      "metadata": {
        "id": "Sji_4kpzgE5f",
        "outputId": "159edc9e-0fe2-43eb-9ebc-4a267f8d41c5",
        "colab": {
          "base_uri": "https://localhost:8080/"
        }
      },
      "outputs": [
        {
          "output_type": "stream",
          "name": "stdout",
          "text": [
            "El coeficiente Silhouette usando distancias euclidianas al cuadrado es = 0.2685616265850329\n"
          ]
        }
      ],
      "source": [
        "silhouette = evaluador.evaluate(predictions)\n",
        "print(\"El coeficiente Silhouette usando distancias euclidianas al cuadrado es = \" + str(silhouette))"
      ]
    }
  ],
  "metadata": {
    "kernelspec": {
      "display_name": "Python 3",
      "language": "python",
      "name": "python3"
    },
    "language_info": {
      "codemirror_mode": {
        "name": "ipython",
        "version": 3
      },
      "file_extension": ".py",
      "mimetype": "text/x-python",
      "name": "python",
      "nbconvert_exporter": "python",
      "pygments_lexer": "ipython3",
      "version": "3.7.4"
    },
    "colab": {
      "provenance": [],
      "include_colab_link": true
    }
  },
  "nbformat": 4,
  "nbformat_minor": 0
}