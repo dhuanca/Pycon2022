{
  "nbformat": 4,
  "nbformat_minor": 0,
  "metadata": {
    "colab": {
      "provenance": [],
      "authorship_tag": "ABX9TyOtFJMCV14HX2fHp09p5MHO",
      "include_colab_link": true
    },
    "kernelspec": {
      "name": "python3",
      "display_name": "Python 3"
    },
    "language_info": {
      "name": "python"
    }
  },
  "cells": [
    {
      "cell_type": "markdown",
      "metadata": {
        "id": "view-in-github",
        "colab_type": "text"
      },
      "source": [
        "<a href=\"https://colab.research.google.com/github/dhuanca/Pycon2022/blob/main/SegmentacionPyconBolivia2022.ipynb\" target=\"_parent\"><img src=\"https://colab.research.google.com/assets/colab-badge.svg\" alt=\"Open In Colab\"/></a>"
      ]
    },
    {
      "cell_type": "code",
      "execution_count": 2,
      "metadata": {
        "colab": {
          "base_uri": "https://localhost:8080/"
        },
        "id": "LksF47cGZHZJ",
        "outputId": "1b6cc441-d717-4621-925f-677689f26087"
      },
      "outputs": [
        {
          "output_type": "stream",
          "name": "stdout",
          "text": [
            "Looking in indexes: https://pypi.org/simple, https://us-python.pkg.dev/colab-wheels/public/simple/\n",
            "Collecting pyspark\n",
            "  Downloading pyspark-3.3.1.tar.gz (281.4 MB)\n",
            "\u001b[K     |████████████████████████████████| 281.4 MB 43 kB/s \n",
            "\u001b[?25hCollecting py4j==0.10.9.5\n",
            "  Downloading py4j-0.10.9.5-py2.py3-none-any.whl (199 kB)\n",
            "\u001b[K     |████████████████████████████████| 199 kB 42.7 MB/s \n",
            "\u001b[?25hBuilding wheels for collected packages: pyspark\n",
            "  Building wheel for pyspark (setup.py) ... \u001b[?25l\u001b[?25hdone\n",
            "  Created wheel for pyspark: filename=pyspark-3.3.1-py2.py3-none-any.whl size=281845512 sha256=c533785d5b1d9b3511d5fd3de0e25141996212a1f8041a296633a9d3e007eef9\n",
            "  Stored in directory: /root/.cache/pip/wheels/43/dc/11/ec201cd671da62fa9c5cc77078235e40722170ceba231d7598\n",
            "Successfully built pyspark\n",
            "Installing collected packages: py4j, pyspark\n",
            "Successfully installed py4j-0.10.9.5 pyspark-3.3.1\n"
          ]
        }
      ],
      "source": [
        "!pip install pyspark"
      ]
    },
    {
      "cell_type": "code",
      "source": [
        "from pyspark.sql import SparkSession\n",
        "import pandas as pd\n",
        "import matplotlib.pyplot as plt"
      ],
      "metadata": {
        "id": "P7uEKsMFZcNq"
      },
      "execution_count": 3,
      "outputs": []
    },
    {
      "cell_type": "code",
      "source": [
        "spark = SparkSession.builder.appName(\"Segmentacion\").getOrCreate()"
      ],
      "metadata": {
        "id": "cExAoDelbV4e"
      },
      "execution_count": 5,
      "outputs": []
    },
    {
      "cell_type": "code",
      "source": [
        "df_telco = spark.read.csv('/content/churn_Operacion_2.csv', header=True, inferSchema=True)"
      ],
      "metadata": {
        "id": "apB1sf5HZeYi"
      },
      "execution_count": 6,
      "outputs": []
    },
    {
      "cell_type": "code",
      "source": [
        "df_telco.show(1)"
      ],
      "metadata": {
        "colab": {
          "base_uri": "https://localhost:8080/"
        },
        "id": "acBz6wXobhMI",
        "outputId": "01994ab4-651c-4d94-93ad-4bac9c2565a9"
      },
      "execution_count": 7,
      "outputs": [
        {
          "output_type": "stream",
          "name": "stdout",
          "text": [
            "+-----+--------+----------+-------------+-------------------+----------------+----------------------+------------------+----------------+-----------------+------------------+----------------+-----------------+--------------------+------------------+-------------------+-------------------+-----------------+------------------+------------------------------+-------+\n",
            "|state| account| area_code| phone_number| international_plan| voice_mail_plan| number_vmail_messages| total_day_minutes| total_day_calls| total_day_charge| total_eve_minutes| total_eve_calls| total_eve_charge| total_night_minutes| total_night_calls| total_night_charge| total_intl_minutes| total_intl_calls| total_intl_charge| number_customer_service_calls| churn.|\n",
            "+-----+--------+----------+-------------+-------------------+----------------+----------------------+------------------+----------------+-----------------+------------------+----------------+-----------------+--------------------+------------------+-------------------+-------------------+-----------------+------------------+------------------------------+-------+\n",
            "|   KS|   128.0|     415.0|     382-4657|                 no|             yes|                  25.0|             265.1|           110.0|            45.07|             197.4|            99.0|            16.78|               244.7|              91.0|              11.01|               10.0|              3.0|               2.7|                           1.0| False.|\n",
            "+-----+--------+----------+-------------+-------------------+----------------+----------------------+------------------+----------------+-----------------+------------------+----------------+-----------------+--------------------+------------------+-------------------+-------------------+-----------------+------------------+------------------------------+-------+\n",
            "only showing top 1 row\n",
            "\n"
          ]
        }
      ]
    },
    {
      "cell_type": "code",
      "source": [
        "df_telco.printSchema()"
      ],
      "metadata": {
        "colab": {
          "base_uri": "https://localhost:8080/"
        },
        "id": "9IeUsOeabhWX",
        "outputId": "4e9e0d0e-5aae-46f0-bd19-171d1858e6c8"
      },
      "execution_count": 8,
      "outputs": [
        {
          "output_type": "stream",
          "name": "stdout",
          "text": [
            "root\n",
            " |-- state: string (nullable = true)\n",
            " |--  account: double (nullable = true)\n",
            " |--  area_code: double (nullable = true)\n",
            " |--  phone_number: string (nullable = true)\n",
            " |--  international_plan: string (nullable = true)\n",
            " |--  voice_mail_plan: string (nullable = true)\n",
            " |--  number_vmail_messages: double (nullable = true)\n",
            " |--  total_day_minutes: double (nullable = true)\n",
            " |--  total_day_calls: double (nullable = true)\n",
            " |--  total_day_charge: double (nullable = true)\n",
            " |--  total_eve_minutes: double (nullable = true)\n",
            " |--  total_eve_calls: double (nullable = true)\n",
            " |--  total_eve_charge: double (nullable = true)\n",
            " |--  total_night_minutes: double (nullable = true)\n",
            " |--  total_night_calls: double (nullable = true)\n",
            " |--  total_night_charge: double (nullable = true)\n",
            " |--  total_intl_minutes: double (nullable = true)\n",
            " |--  total_intl_calls: double (nullable = true)\n",
            " |--  total_intl_charge: double (nullable = true)\n",
            " |--  number_customer_service_calls: double (nullable = true)\n",
            " |--  churn.: string (nullable = true)\n",
            "\n"
          ]
        }
      ]
    },
    {
      "cell_type": "code",
      "source": [],
      "metadata": {
        "id": "q3xIk9sxbhbM"
      },
      "execution_count": null,
      "outputs": []
    },
    {
      "cell_type": "code",
      "source": [],
      "metadata": {
        "id": "3rkXGBh2bhhZ"
      },
      "execution_count": null,
      "outputs": []
    }
  ]
}