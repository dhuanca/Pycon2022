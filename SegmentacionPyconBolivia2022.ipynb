{
  "cells": [
    {
      "cell_type": "markdown",
      "metadata": {
        "id": "view-in-github",
        "colab_type": "text"
      },
      "source": [
        "<a href=\"https://colab.research.google.com/github/dhuanca/Pycon2022/blob/main/SegmentacionPyconBolivia2022.ipynb\" target=\"_parent\"><img src=\"https://colab.research.google.com/assets/colab-badge.svg\" alt=\"Open In Colab\"/></a>"
      ]
    },
    {
      "cell_type": "markdown",
      "metadata": {
        "id": "O5BtZansgE5A"
      },
      "source": [
        "## Modelo Segmentación cliente "
      ]
    },
    {
      "cell_type": "code",
      "execution_count": 2,
      "metadata": {
        "id": "rgEi2PhpgE5F",
        "outputId": "cc13558e-2a12-40bf-da83-9ac79261c257",
        "colab": {
          "base_uri": "https://localhost:8080/"
        }
      },
      "outputs": [
        {
          "output_type": "stream",
          "name": "stdout",
          "text": [
            "Looking in indexes: https://pypi.org/simple, https://us-python.pkg.dev/colab-wheels/public/simple/\n",
            "Collecting pyspark\n",
            "  Downloading pyspark-3.3.1.tar.gz (281.4 MB)\n",
            "\u001b[K     |████████████████████████████████| 281.4 MB 47 kB/s \n",
            "\u001b[?25hCollecting py4j==0.10.9.5\n",
            "  Downloading py4j-0.10.9.5-py2.py3-none-any.whl (199 kB)\n",
            "\u001b[K     |████████████████████████████████| 199 kB 48.5 MB/s \n",
            "\u001b[?25hBuilding wheels for collected packages: pyspark\n",
            "  Building wheel for pyspark (setup.py) ... \u001b[?25l\u001b[?25hdone\n",
            "  Created wheel for pyspark: filename=pyspark-3.3.1-py2.py3-none-any.whl size=281845512 sha256=895dd7c7fe2719c5eb655d8b09fbff7be7837e996e87cfd054327dcbaf4e49c4\n",
            "  Stored in directory: /root/.cache/pip/wheels/43/dc/11/ec201cd671da62fa9c5cc77078235e40722170ceba231d7598\n",
            "Successfully built pyspark\n",
            "Installing collected packages: py4j, pyspark\n",
            "Successfully installed py4j-0.10.9.5 pyspark-3.3.1\n"
          ]
        }
      ],
      "source": [
        "!pip install pyspark"
      ]
    },
    {
      "cell_type": "code",
      "execution_count": 3,
      "metadata": {
        "id": "yDprlE5VgE5G"
      },
      "outputs": [],
      "source": [
        "from pyspark.sql import SparkSession\n",
        "import pandas as pd\n",
        "import matplotlib.pyplot as plt"
      ]
    },
    {
      "cell_type": "markdown",
      "metadata": {
        "id": "KVyaj8XRgE5H"
      },
      "source": [
        "Un sparkSession es un punto de entrada para programar Spark con Dataframes (DataFrame API)\n",
        "\n",
        "El método builder es el constructor de instancias SparkSession\n",
        "\n",
        "https://spark.apache.org/docs/3.1.1/api/python/reference/api/pyspark.sql.SparkSession.html"
      ]
    },
    {
      "cell_type": "code",
      "execution_count": 4,
      "metadata": {
        "id": "gQpkpoHcgE5I"
      },
      "outputs": [],
      "source": [
        "spark = SparkSession.builder.appName(\"Segmentacion\").getOrCreate()"
      ]
    },
    {
      "cell_type": "markdown",
      "metadata": {
        "id": "VnTp4XaJgE5I"
      },
      "source": [
        "Leer de un HDFS que se encuentra en la ruta /user/curso/ el archivo csv: churn_Operacion_2.csv\n",
        "\n",
        "El Schema se infiere"
      ]
    },
    {
      "cell_type": "code",
      "execution_count": 5,
      "metadata": {
        "id": "bc3vtOYagE5J"
      },
      "outputs": [],
      "source": [
        "df_telco = spark.read.csv('/content/churn_Operacion_2.csv', header=True, inferSchema=True)"
      ]
    },
    {
      "cell_type": "code",
      "execution_count": null,
      "metadata": {
        "id": "1j_9r1ktgE5J",
        "outputId": "b5222892-2ce7-4bec-cebf-bc8b79256aec"
      },
      "outputs": [
        {
          "name": "stdout",
          "output_type": "stream",
          "text": [
            "+-----+--------+----------+-------------+-------------------+----------------+----------------------+------------------+----------------+-----------------+------------------+----------------+-----------------+--------------------+------------------+-------------------+-------------------+-----------------+------------------+------------------------------+-------+\n",
            "|state| account| area_code| phone_number| international_plan| voice_mail_plan| number_vmail_messages| total_day_minutes| total_day_calls| total_day_charge| total_eve_minutes| total_eve_calls| total_eve_charge| total_night_minutes| total_night_calls| total_night_charge| total_intl_minutes| total_intl_calls| total_intl_charge| number_customer_service_calls| churn.|\n",
            "+-----+--------+----------+-------------+-------------------+----------------+----------------------+------------------+----------------+-----------------+------------------+----------------+-----------------+--------------------+------------------+-------------------+-------------------+-----------------+------------------+------------------------------+-------+\n",
            "|   KS|   128.0|     415.0|     382-4657|                 no|             yes|                  25.0|             265.1|           110.0|            45.07|             197.4|            99.0|            16.78|               244.7|              91.0|              11.01|               10.0|              3.0|               2.7|                           1.0| False.|\n",
            "+-----+--------+----------+-------------+-------------------+----------------+----------------------+------------------+----------------+-----------------+------------------+----------------+-----------------+--------------------+------------------+-------------------+-------------------+-----------------+------------------+------------------------------+-------+\n",
            "only showing top 1 row\n",
            "\n"
          ]
        }
      ],
      "source": [
        "df_telco.show(1)"
      ]
    },
    {
      "cell_type": "markdown",
      "metadata": {
        "id": "-MS1fXJMgE5L"
      },
      "source": [
        "### ¿Que es el esquema?\n",
        "\n",
        "Es la metadata asociada al dataFrame **df_telco**"
      ]
    },
    {
      "cell_type": "code",
      "execution_count": null,
      "metadata": {
        "id": "wcG6gTV7gE5M",
        "outputId": "eff4b2e9-6eb6-481a-f094-f8a06143915f"
      },
      "outputs": [
        {
          "name": "stdout",
          "output_type": "stream",
          "text": [
            "root\n",
            " |-- state: string (nullable = true)\n",
            " |--  account: double (nullable = true)\n",
            " |--  area_code: double (nullable = true)\n",
            " |--  phone_number: string (nullable = true)\n",
            " |--  international_plan: string (nullable = true)\n",
            " |--  voice_mail_plan: string (nullable = true)\n",
            " |--  number_vmail_messages: double (nullable = true)\n",
            " |--  total_day_minutes: double (nullable = true)\n",
            " |--  total_day_calls: double (nullable = true)\n",
            " |--  total_day_charge: double (nullable = true)\n",
            " |--  total_eve_minutes: double (nullable = true)\n",
            " |--  total_eve_calls: double (nullable = true)\n",
            " |--  total_eve_charge: double (nullable = true)\n",
            " |--  total_night_minutes: double (nullable = true)\n",
            " |--  total_night_calls: double (nullable = true)\n",
            " |--  total_night_charge: double (nullable = true)\n",
            " |--  total_intl_minutes: double (nullable = true)\n",
            " |--  total_intl_calls: double (nullable = true)\n",
            " |--  total_intl_charge: double (nullable = true)\n",
            " |--  number_customer_service_calls: double (nullable = true)\n",
            " |--  churn.: string (nullable = true)\n",
            "\n"
          ]
        }
      ],
      "source": [
        "df_telco.printSchema()"
      ]
    },
    {
      "cell_type": "markdown",
      "metadata": {
        "id": "KEeAD0gfgE5N"
      },
      "source": [
        "### ¿Por qué es importante definir un schema?\n",
        "\n",
        "Es importante porque los modelos por si mismos no identifican si una variable es cuantitativa o cualitativa. Por ejemplo: si la ciudades de Cochabamba y Santa Cruz por los números 1 y 2. Estos valores son númericos? Una computadora los reconoce como numéricos si no se indentifica como texto que es lo que realmente son (cualitativos)\n"
      ]
    },
    {
      "cell_type": "code",
      "execution_count": null,
      "metadata": {
        "id": "XGh6mtcagE5O"
      },
      "outputs": [],
      "source": [
        "from pyspark.sql.types import StructType, StructField, StringType, LongType, IntegerType, DoubleType, FloatType"
      ]
    },
    {
      "cell_type": "code",
      "execution_count": null,
      "metadata": {
        "id": "ThCA7iz_gE5O"
      },
      "outputs": [],
      "source": [
        "Mischema = StructType(\n",
        "    [\n",
        "        StructField('state', StringType(), True),\n",
        "        StructField('account', StringType(), True),\n",
        "        StructField('area_code', StringType(), True),\n",
        "        StructField('phone_number', StringType(), True),\n",
        "        StructField('international_plan', StringType(), True),\n",
        "        StructField('voice_mail_plan', StringType(), True),       \n",
        "        StructField(\"number_vmail_messages\",  DoubleType(), True),\n",
        "        StructField('total_day_minutes', DoubleType(), True), \n",
        "        StructField('total_day_calls', DoubleType(), True),\n",
        "        StructField('total_day_charge', DoubleType(), True),\n",
        "        StructField('total_eve_minutes', DoubleType(), True),\n",
        "        StructField('total_eve_calls', DoubleType(), True),\n",
        "        StructField('total_eve_charge', DoubleType(), True),\n",
        "        StructField('total_night_minutes', DoubleType(), True),\n",
        "        StructField('total_night_calls', DoubleType(), True),\n",
        "        StructField('total_night_charge', DoubleType(), True),\n",
        "        StructField('total_intl_minutes', DoubleType(), True),\n",
        "        StructField('total_intl_calls', DoubleType(), True),\n",
        "        StructField('total_intl_charge', DoubleType(), True),\n",
        "        StructField('number_customer_service_calls', DoubleType(), True),\n",
        "        StructField('churn.', StringType(), True)       \n",
        "    ]\n",
        ")"
      ]
    },
    {
      "cell_type": "markdown",
      "metadata": {
        "id": "3t16WwnQgE5P"
      },
      "source": [
        "Re leer el dataframe con el schema acordado"
      ]
    },
    {
      "cell_type": "code",
      "execution_count": null,
      "metadata": {
        "id": "-g4C8aQ-gE5P"
      },
      "outputs": [],
      "source": [
        "df_telco = spark.read.csv('/user/curso/churn_Operacion_2.csv', header=True, schema=Mischema)"
      ]
    },
    {
      "cell_type": "markdown",
      "metadata": {
        "id": "8gtloiRvgE5Q"
      },
      "source": [
        "### Explorar datos\n",
        "\n",
        "Ordenar por columnas \n",
        "\n",
        "Ascendente"
      ]
    },
    {
      "cell_type": "code",
      "execution_count": null,
      "metadata": {
        "id": "VWJD4crdgE5Q",
        "outputId": "822ef6e3-0067-4f8f-94ca-e1dd05c93573"
      },
      "outputs": [
        {
          "name": "stdout",
          "output_type": "stream",
          "text": [
            "+-----------------------------+\n",
            "|number_customer_service_calls|\n",
            "+-----------------------------+\n",
            "|                          0.0|\n",
            "|                          0.0|\n",
            "|                          0.0|\n",
            "|                          0.0|\n",
            "|                          0.0|\n",
            "+-----------------------------+\n",
            "only showing top 5 rows\n",
            "\n"
          ]
        }
      ],
      "source": [
        "df_telco.sort('number_customer_service_calls')[['number_customer_service_calls']].show(5)"
      ]
    },
    {
      "cell_type": "markdown",
      "metadata": {
        "id": "XJgvtIltgE5R"
      },
      "source": [
        "Descendente"
      ]
    },
    {
      "cell_type": "code",
      "execution_count": null,
      "metadata": {
        "id": "8m0q0wEpgE5R"
      },
      "outputs": [],
      "source": [
        "from pyspark.sql import functions as F"
      ]
    },
    {
      "cell_type": "code",
      "execution_count": null,
      "metadata": {
        "id": "GpJcwnqagE5R",
        "outputId": "4f1146c1-1236-4ec2-bbad-38ea1e2a0cd9"
      },
      "outputs": [
        {
          "name": "stdout",
          "output_type": "stream",
          "text": [
            "+-----------------------------+\n",
            "|number_customer_service_calls|\n",
            "+-----------------------------+\n",
            "|                          9.0|\n",
            "|                          9.0|\n",
            "|                          8.0|\n",
            "|                          8.0|\n",
            "|                          7.0|\n",
            "+-----------------------------+\n",
            "only showing top 5 rows\n",
            "\n"
          ]
        }
      ],
      "source": [
        "df_telco.sort(F.desc('number_customer_service_calls'))[['number_customer_service_calls']].show(5)"
      ]
    },
    {
      "cell_type": "markdown",
      "metadata": {
        "id": "KI_M5TG2gE5R"
      },
      "source": [
        "Para verificar el dominio de variables cualitativas se usan funciones de agrupación"
      ]
    },
    {
      "cell_type": "code",
      "execution_count": null,
      "metadata": {
        "id": "HubrbFRpgE5S",
        "outputId": "da0039fd-098d-4ea9-dd10-32cb3b08b5fb"
      },
      "outputs": [
        {
          "name": "stdout",
          "output_type": "stream",
          "text": [
            "+---------+-----+\n",
            "|area_code|count|\n",
            "+---------+-----+\n",
            "|      408|  838|\n",
            "|      510|  840|\n",
            "|      415| 1655|\n",
            "+---------+-----+\n",
            "\n"
          ]
        }
      ],
      "source": [
        "df_telco.groupBy(F.col('area_code')).count().show()"
      ]
    },
    {
      "cell_type": "code",
      "execution_count": null,
      "metadata": {
        "id": "dtO6Cb3pgE5S",
        "outputId": "cc5821b7-8f37-4b23-f781-5e4cf4a2b885"
      },
      "outputs": [
        {
          "name": "stdout",
          "output_type": "stream",
          "text": [
            "+------------------+-----+\n",
            "|international_plan|count|\n",
            "+------------------+-----+\n",
            "|                no| 3010|\n",
            "|               yes|  323|\n",
            "+------------------+-----+\n",
            "\n"
          ]
        }
      ],
      "source": [
        "df_telco.groupBy(F.col('international_plan')).count().show()"
      ]
    },
    {
      "cell_type": "code",
      "execution_count": null,
      "metadata": {
        "id": "9qzT6zgNgE5S",
        "outputId": "715301e9-c00c-4077-dcf8-af160e320bf4"
      },
      "outputs": [
        {
          "name": "stdout",
          "output_type": "stream",
          "text": [
            "+-----+--------------------------+----------------------------------+\n",
            "|state|avg(number_vmail_messages)|avg(number_customer_service_calls)|\n",
            "+-----+--------------------------+----------------------------------+\n",
            "|   AZ|                   9.46875|                           1.59375|\n",
            "|   SC|         8.683333333333334|                1.5833333333333333|\n",
            "|   LA|         7.901960784313726|                1.5686274509803921|\n",
            "|   MN|         8.261904761904763|                1.5476190476190477|\n",
            "|   NJ|         9.191176470588236|                1.6764705882352942|\n",
            "|   DC|          9.74074074074074|                1.3518518518518519|\n",
            "|   OR|          6.17948717948718|                1.7307692307692308|\n",
            "|   VA|         7.038961038961039|                1.5974025974025974|\n",
            "|   RI|         7.323076923076923|                1.4153846153846155|\n",
            "|   WY|          6.51948051948052|                1.4415584415584415|\n",
            "|   KY|                       7.0|                1.7118644067796611|\n",
            "|   NH|         8.267857142857142|                1.5178571428571428|\n",
            "|   MI|         8.452054794520548|                  1.63013698630137|\n",
            "|   NV|         6.803030303030303|                1.5909090909090908|\n",
            "|   WI|         8.282051282051283|                1.4230769230769231|\n",
            "|   ID|        10.219178082191782|                1.6712328767123288|\n",
            "|   CA|                       9.0|                1.4705882352941178|\n",
            "|   NE|         8.557377049180328|                 1.459016393442623|\n",
            "|   CT|         9.067567567567568|                1.5135135135135136|\n",
            "|   MT|         9.338235294117647|                1.6323529411764706|\n",
            "+-----+--------------------------+----------------------------------+\n",
            "only showing top 20 rows\n",
            "\n"
          ]
        }
      ],
      "source": [
        "df_telco[['state','number_vmail_messages','number_customer_service_calls']].groupBy(F.col('state')).avg().show()"
      ]
    },
    {
      "cell_type": "code",
      "execution_count": null,
      "metadata": {
        "id": "43JHNYfdgE5T"
      },
      "outputs": [],
      "source": [
        "df_telco_pandas = df_telco[['churn','number_customer_service_calls']].groupBy(F.col('churn')).avg().toPandas()"
      ]
    },
    {
      "cell_type": "code",
      "execution_count": null,
      "metadata": {
        "id": "RmrSAy3ZgE5T",
        "outputId": "00ba3675-40d2-43d7-bf4c-7407d52b2726"
      },
      "outputs": [
        {
          "data": {
            "text/plain": [
              "pandas.core.frame.DataFrame"
            ]
          },
          "execution_count": 43,
          "metadata": {},
          "output_type": "execute_result"
        }
      ],
      "source": [
        "type(df_telco_pandas)"
      ]
    },
    {
      "cell_type": "code",
      "execution_count": null,
      "metadata": {
        "id": "1SK4QwhdgE5T",
        "outputId": "1d26fd96-3d35-4e63-ab35-4d6bfea68254"
      },
      "outputs": [
        {
          "data": {
            "text/plain": [
              "pyspark.sql.dataframe.DataFrame"
            ]
          },
          "execution_count": 44,
          "metadata": {},
          "output_type": "execute_result"
        }
      ],
      "source": [
        "type(df_telco)"
      ]
    },
    {
      "cell_type": "code",
      "execution_count": null,
      "metadata": {
        "id": "Bh6GQHVLgE5T",
        "outputId": "3a763aed-f4bc-449f-bb54-431f7b3fac35"
      },
      "outputs": [
        {
          "data": {
            "image/png": "[encoded data removed]",
            "text/plain": [
              "<Figure size 720x360 with 1 Axes>"
            ]
          },
          "metadata": {
            "needs_background": "light"
          },
          "output_type": "display_data"
        }
      ],
      "source": [
        "df_telco_pandas.plot.bar('churn', figsize=(10,5))\n",
        "plt.show()"
      ]
    },
    {
      "cell_type": "code",
      "execution_count": null,
      "metadata": {
        "id": "z6FB3j3wgE5U"
      },
      "outputs": [],
      "source": [
        "df_telco_pandas = df_telco[['churn','total_day_minutes']].groupBy(F.col('churn')).avg().toPandas()"
      ]
    },
    {
      "cell_type": "code",
      "execution_count": null,
      "metadata": {
        "id": "DnpY68XlgE5U",
        "outputId": "c623d6ce-3a28-4569-c4f9-46d38309182d"
      },
      "outputs": [
        {
          "data": {
            "image/png": "[encoded data removed]",
            "text/plain": [
              "<Figure size 720x360 with 1 Axes>"
            ]
          },
          "metadata": {
            "needs_background": "light"
          },
          "output_type": "display_data"
        }
      ],
      "source": [
        "df_telco_pandas.plot.bar('churn', figsize=(10,5))\n",
        "plt.show()"
      ]
    },
    {
      "cell_type": "markdown",
      "metadata": {
        "id": "i2lkQZe3gE5U"
      },
      "source": [
        "##   Transformaciones para refinar datos\n",
        "\n",
        "###   Renonbrar columnas\n",
        "\n",
        "La variable churn. contiene un punto al final que podemos eliminarlo"
      ]
    },
    {
      "cell_type": "code",
      "execution_count": null,
      "metadata": {
        "id": "l7vlHrsygE5U"
      },
      "outputs": [],
      "source": [
        "df_telco = df_telco.withColumnRenamed('churn.','churn')"
      ]
    },
    {
      "cell_type": "code",
      "execution_count": null,
      "metadata": {
        "id": "LL1VxiQbgE5V",
        "outputId": "062fbbc9-6012-4fa4-e212-f37259ad0e2f"
      },
      "outputs": [
        {
          "data": {
            "text/plain": [
              "['state',\n",
              " 'account',\n",
              " 'area_code',\n",
              " 'phone_number',\n",
              " 'international_plan',\n",
              " 'voice_mail_plan',\n",
              " 'number_vmail_messages',\n",
              " 'total_day_minutes',\n",
              " 'total_day_calls',\n",
              " 'total_day_charge',\n",
              " 'total_eve_minutes',\n",
              " 'total_eve_calls',\n",
              " 'total_eve_charge',\n",
              " 'total_night_minutes',\n",
              " 'total_night_calls',\n",
              " 'total_night_charge',\n",
              " 'total_intl_minutes',\n",
              " 'total_intl_calls',\n",
              " 'total_intl_charge',\n",
              " 'number_customer_service_calls',\n",
              " 'churn']"
            ]
          },
          "execution_count": 20,
          "metadata": {},
          "output_type": "execute_result"
        }
      ],
      "source": [
        "df_telco.columns"
      ]
    },
    {
      "cell_type": "code",
      "execution_count": null,
      "metadata": {
        "id": "eh-xZ8WIgE5V",
        "outputId": "7a1a8c85-cfbc-42b2-8efd-4b5bfbe605cc"
      },
      "outputs": [
        {
          "name": "stdout",
          "output_type": "stream",
          "text": [
            "root\n",
            " |-- state: string (nullable = true)\n",
            " |-- account: string (nullable = true)\n",
            " |-- area_code: string (nullable = true)\n",
            " |-- phone_number: string (nullable = true)\n",
            " |-- international_plan: string (nullable = true)\n",
            " |-- voice_mail_plan: string (nullable = true)\n",
            " |-- number_vmail_messages: double (nullable = true)\n",
            " |-- total_day_minutes: double (nullable = true)\n",
            " |-- total_day_calls: double (nullable = true)\n",
            " |-- total_day_charge: double (nullable = true)\n",
            " |-- total_eve_minutes: double (nullable = true)\n",
            " |-- total_eve_calls: double (nullable = true)\n",
            " |-- total_eve_charge: double (nullable = true)\n",
            " |-- total_night_minutes: double (nullable = true)\n",
            " |-- total_night_calls: double (nullable = true)\n",
            " |-- total_night_charge: double (nullable = true)\n",
            " |-- total_intl_minutes: double (nullable = true)\n",
            " |-- total_intl_calls: double (nullable = true)\n",
            " |-- total_intl_charge: double (nullable = true)\n",
            " |-- number_customer_service_calls: double (nullable = true)\n",
            " |-- churn: string (nullable = true)\n",
            "\n"
          ]
        }
      ],
      "source": [
        "df_telco.printSchema()"
      ]
    },
    {
      "cell_type": "markdown",
      "metadata": {
        "id": "nweVRKVKgE5V"
      },
      "source": [
        "### Eliminación de valores nulos"
      ]
    },
    {
      "cell_type": "code",
      "execution_count": null,
      "metadata": {
        "id": "X7BiE8wygE5V"
      },
      "outputs": [],
      "source": [
        "df_telco_describe = df_telco.describe().toPandas()"
      ]
    },
    {
      "cell_type": "code",
      "execution_count": null,
      "metadata": {
        "id": "Em0fccSngE5V",
        "outputId": "31e53e9d-3bd9-46c2-9584-098c42ffe251"
      },
      "outputs": [
        {
          "data": {
            "text/html": [
              "<div>\n",
              "<style scoped>\n",
              "    .dataframe tbody tr th:only-of-type {\n",
              "        vertical-align: middle;\n",
              "    }\n",
              "\n",
              "    .dataframe tbody tr th {\n",
              "        vertical-align: top;\n",
              "    }\n",
              "\n",
              "    .dataframe thead th {\n",
              "        text-align: right;\n",
              "    }\n",
              "</style>\n",
              "<table border=\"1\" class=\"dataframe\">\n",
              "  <thead>\n",
              "    <tr style=\"text-align: right;\">\n",
              "      <th></th>\n",
              "      <th>summary</th>\n",
              "      <th>state</th>\n",
              "      <th>account</th>\n",
              "      <th>area_code</th>\n",
              "      <th>phone_number</th>\n",
              "      <th>international_plan</th>\n",
              "      <th>voice_mail_plan</th>\n",
              "      <th>number_vmail_messages</th>\n",
              "      <th>total_day_minutes</th>\n",
              "      <th>total_day_calls</th>\n",
              "      <th>...</th>\n",
              "      <th>total_eve_calls</th>\n",
              "      <th>total_eve_charge</th>\n",
              "      <th>total_night_minutes</th>\n",
              "      <th>total_night_calls</th>\n",
              "      <th>total_night_charge</th>\n",
              "      <th>total_intl_minutes</th>\n",
              "      <th>total_intl_calls</th>\n",
              "      <th>total_intl_charge</th>\n",
              "      <th>number_customer_service_calls</th>\n",
              "      <th>churn</th>\n",
              "    </tr>\n",
              "  </thead>\n",
              "  <tbody>\n",
              "    <tr>\n",
              "      <td>0</td>\n",
              "      <td>count</td>\n",
              "      <td>3333</td>\n",
              "      <td>3333</td>\n",
              "      <td>3333</td>\n",
              "      <td>3333</td>\n",
              "      <td>3333</td>\n",
              "      <td>3333</td>\n",
              "      <td>3333</td>\n",
              "      <td>3333</td>\n",
              "      <td>3333</td>\n",
              "      <td>...</td>\n",
              "      <td>3333</td>\n",
              "      <td>3333</td>\n",
              "      <td>3333</td>\n",
              "      <td>3333</td>\n",
              "      <td>3333</td>\n",
              "      <td>3333</td>\n",
              "      <td>3333</td>\n",
              "      <td>3333</td>\n",
              "      <td>3333</td>\n",
              "      <td>3333</td>\n",
              "    </tr>\n",
              "    <tr>\n",
              "      <td>1</td>\n",
              "      <td>mean</td>\n",
              "      <td>None</td>\n",
              "      <td>101.06480648064806</td>\n",
              "      <td>437.18241824182417</td>\n",
              "      <td>None</td>\n",
              "      <td>None</td>\n",
              "      <td>None</td>\n",
              "      <td>8.099009900990099</td>\n",
              "      <td>179.77509750975116</td>\n",
              "      <td>100.43564356435644</td>\n",
              "      <td>...</td>\n",
              "      <td>100.11431143114311</td>\n",
              "      <td>17.083540354035392</td>\n",
              "      <td>200.87203720372048</td>\n",
              "      <td>100.10771077107711</td>\n",
              "      <td>9.039324932493264</td>\n",
              "      <td>10.237293729372933</td>\n",
              "      <td>4.4794479447944795</td>\n",
              "      <td>2.764581458145804</td>\n",
              "      <td>1.5628562856285628</td>\n",
              "      <td>None</td>\n",
              "    </tr>\n",
              "    <tr>\n",
              "      <td>2</td>\n",
              "      <td>stddev</td>\n",
              "      <td>None</td>\n",
              "      <td>39.822105928595676</td>\n",
              "      <td>42.37129048560661</td>\n",
              "      <td>None</td>\n",
              "      <td>None</td>\n",
              "      <td>None</td>\n",
              "      <td>13.688365372038598</td>\n",
              "      <td>54.46738920237146</td>\n",
              "      <td>20.069084207300893</td>\n",
              "      <td>...</td>\n",
              "      <td>19.92262529394312</td>\n",
              "      <td>4.310667643110347</td>\n",
              "      <td>50.57384701365836</td>\n",
              "      <td>19.568609346058544</td>\n",
              "      <td>2.275872837660027</td>\n",
              "      <td>2.791839548408416</td>\n",
              "      <td>2.4612142705460953</td>\n",
              "      <td>0.7537726126630451</td>\n",
              "      <td>1.3154910448664752</td>\n",
              "      <td>None</td>\n",
              "    </tr>\n",
              "    <tr>\n",
              "      <td>3</td>\n",
              "      <td>min</td>\n",
              "      <td>AK</td>\n",
              "      <td>1</td>\n",
              "      <td>408</td>\n",
              "      <td>327-1058</td>\n",
              "      <td>no</td>\n",
              "      <td>no</td>\n",
              "      <td>0.0</td>\n",
              "      <td>0.0</td>\n",
              "      <td>0.0</td>\n",
              "      <td>...</td>\n",
              "      <td>0.0</td>\n",
              "      <td>0.0</td>\n",
              "      <td>23.2</td>\n",
              "      <td>33.0</td>\n",
              "      <td>1.04</td>\n",
              "      <td>0.0</td>\n",
              "      <td>0.0</td>\n",
              "      <td>0.0</td>\n",
              "      <td>0.0</td>\n",
              "      <td>False.</td>\n",
              "    </tr>\n",
              "    <tr>\n",
              "      <td>4</td>\n",
              "      <td>max</td>\n",
              "      <td>WY</td>\n",
              "      <td>99</td>\n",
              "      <td>510</td>\n",
              "      <td>422-9964</td>\n",
              "      <td>yes</td>\n",
              "      <td>yes</td>\n",
              "      <td>51.0</td>\n",
              "      <td>350.8</td>\n",
              "      <td>165.0</td>\n",
              "      <td>...</td>\n",
              "      <td>170.0</td>\n",
              "      <td>30.91</td>\n",
              "      <td>395.0</td>\n",
              "      <td>175.0</td>\n",
              "      <td>17.77</td>\n",
              "      <td>20.0</td>\n",
              "      <td>20.0</td>\n",
              "      <td>5.4</td>\n",
              "      <td>9.0</td>\n",
              "      <td>True.</td>\n",
              "    </tr>\n",
              "  </tbody>\n",
              "</table>\n",
              "<p>5 rows × 22 columns</p>\n",
              "</div>"
            ],
            "text/plain": [
              "  summary state             account           area_code phone_number  \\\n",
              "0   count  3333                3333                3333         3333   \n",
              "1    mean  None  101.06480648064806  437.18241824182417         None   \n",
              "2  stddev  None  39.822105928595676   42.37129048560661         None   \n",
              "3     min    AK                   1                 408     327-1058   \n",
              "4     max    WY                  99                 510     422-9964   \n",
              "\n",
              "  international_plan voice_mail_plan number_vmail_messages  \\\n",
              "0               3333            3333                  3333   \n",
              "1               None            None     8.099009900990099   \n",
              "2               None            None    13.688365372038598   \n",
              "3                 no              no                   0.0   \n",
              "4                yes             yes                  51.0   \n",
              "\n",
              "    total_day_minutes     total_day_calls  ...     total_eve_calls  \\\n",
              "0                3333                3333  ...                3333   \n",
              "1  179.77509750975116  100.43564356435644  ...  100.11431143114311   \n",
              "2   54.46738920237146  20.069084207300893  ...   19.92262529394312   \n",
              "3                 0.0                 0.0  ...                 0.0   \n",
              "4               350.8               165.0  ...               170.0   \n",
              "\n",
              "     total_eve_charge total_night_minutes   total_night_calls  \\\n",
              "0                3333                3333                3333   \n",
              "1  17.083540354035392  200.87203720372048  100.10771077107711   \n",
              "2   4.310667643110347   50.57384701365836  19.568609346058544   \n",
              "3                 0.0                23.2                33.0   \n",
              "4               30.91               395.0               175.0   \n",
              "\n",
              "  total_night_charge  total_intl_minutes    total_intl_calls  \\\n",
              "0               3333                3333                3333   \n",
              "1  9.039324932493264  10.237293729372933  4.4794479447944795   \n",
              "2  2.275872837660027   2.791839548408416  2.4612142705460953   \n",
              "3               1.04                 0.0                 0.0   \n",
              "4              17.77                20.0                20.0   \n",
              "\n",
              "    total_intl_charge number_customer_service_calls    churn  \n",
              "0                3333                          3333     3333  \n",
              "1   2.764581458145804            1.5628562856285628     None  \n",
              "2  0.7537726126630451            1.3154910448664752     None  \n",
              "3                 0.0                           0.0   False.  \n",
              "4                 5.4                           9.0    True.  \n",
              "\n",
              "[5 rows x 22 columns]"
            ]
          },
          "execution_count": 29,
          "metadata": {},
          "output_type": "execute_result"
        }
      ],
      "source": [
        "df_telco_describe"
      ]
    },
    {
      "cell_type": "code",
      "execution_count": null,
      "metadata": {
        "id": "sgZzqANHgE5W"
      },
      "outputs": [],
      "source": [
        "df_telco_summary = df_telco.summary().toPandas()"
      ]
    },
    {
      "cell_type": "code",
      "execution_count": null,
      "metadata": {
        "id": "SzQ60avHgE5W",
        "outputId": "4734c761-0200-4c78-ca21-f6b8838e93e5"
      },
      "outputs": [
        {
          "data": {
            "text/html": [
              "<div>\n",
              "<style scoped>\n",
              "    .dataframe tbody tr th:only-of-type {\n",
              "        vertical-align: middle;\n",
              "    }\n",
              "\n",
              "    .dataframe tbody tr th {\n",
              "        vertical-align: top;\n",
              "    }\n",
              "\n",
              "    .dataframe thead th {\n",
              "        text-align: right;\n",
              "    }\n",
              "</style>\n",
              "<table border=\"1\" class=\"dataframe\">\n",
              "  <thead>\n",
              "    <tr style=\"text-align: right;\">\n",
              "      <th></th>\n",
              "      <th>summary</th>\n",
              "      <th>state</th>\n",
              "      <th>account</th>\n",
              "      <th>area_code</th>\n",
              "      <th>phone_number</th>\n",
              "      <th>international_plan</th>\n",
              "      <th>voice_mail_plan</th>\n",
              "      <th>number_vmail_messages</th>\n",
              "      <th>total_day_minutes</th>\n",
              "      <th>total_day_calls</th>\n",
              "      <th>...</th>\n",
              "      <th>total_eve_calls</th>\n",
              "      <th>total_eve_charge</th>\n",
              "      <th>total_night_minutes</th>\n",
              "      <th>total_night_calls</th>\n",
              "      <th>total_night_charge</th>\n",
              "      <th>total_intl_minutes</th>\n",
              "      <th>total_intl_calls</th>\n",
              "      <th>total_intl_charge</th>\n",
              "      <th>number_customer_service_calls</th>\n",
              "      <th>churn</th>\n",
              "    </tr>\n",
              "  </thead>\n",
              "  <tbody>\n",
              "    <tr>\n",
              "      <td>0</td>\n",
              "      <td>count</td>\n",
              "      <td>3333</td>\n",
              "      <td>3333</td>\n",
              "      <td>3333</td>\n",
              "      <td>3333</td>\n",
              "      <td>3333</td>\n",
              "      <td>3333</td>\n",
              "      <td>3333</td>\n",
              "      <td>3333</td>\n",
              "      <td>3333</td>\n",
              "      <td>...</td>\n",
              "      <td>3333</td>\n",
              "      <td>3333</td>\n",
              "      <td>3333</td>\n",
              "      <td>3333</td>\n",
              "      <td>3333</td>\n",
              "      <td>3333</td>\n",
              "      <td>3333</td>\n",
              "      <td>3333</td>\n",
              "      <td>3333</td>\n",
              "      <td>3333</td>\n",
              "    </tr>\n",
              "    <tr>\n",
              "      <td>1</td>\n",
              "      <td>mean</td>\n",
              "      <td>None</td>\n",
              "      <td>101.06480648064806</td>\n",
              "      <td>437.18241824182417</td>\n",
              "      <td>None</td>\n",
              "      <td>None</td>\n",
              "      <td>None</td>\n",
              "      <td>8.099009900990099</td>\n",
              "      <td>179.77509750975116</td>\n",
              "      <td>100.43564356435644</td>\n",
              "      <td>...</td>\n",
              "      <td>100.11431143114311</td>\n",
              "      <td>17.083540354035392</td>\n",
              "      <td>200.87203720372048</td>\n",
              "      <td>100.10771077107711</td>\n",
              "      <td>9.039324932493264</td>\n",
              "      <td>10.237293729372933</td>\n",
              "      <td>4.4794479447944795</td>\n",
              "      <td>2.764581458145804</td>\n",
              "      <td>1.5628562856285628</td>\n",
              "      <td>None</td>\n",
              "    </tr>\n",
              "    <tr>\n",
              "      <td>2</td>\n",
              "      <td>stddev</td>\n",
              "      <td>None</td>\n",
              "      <td>39.822105928595676</td>\n",
              "      <td>42.37129048560661</td>\n",
              "      <td>None</td>\n",
              "      <td>None</td>\n",
              "      <td>None</td>\n",
              "      <td>13.688365372038598</td>\n",
              "      <td>54.46738920237146</td>\n",
              "      <td>20.069084207300893</td>\n",
              "      <td>...</td>\n",
              "      <td>19.92262529394312</td>\n",
              "      <td>4.310667643110347</td>\n",
              "      <td>50.57384701365836</td>\n",
              "      <td>19.568609346058544</td>\n",
              "      <td>2.275872837660027</td>\n",
              "      <td>2.791839548408416</td>\n",
              "      <td>2.4612142705460953</td>\n",
              "      <td>0.7537726126630451</td>\n",
              "      <td>1.3154910448664752</td>\n",
              "      <td>None</td>\n",
              "    </tr>\n",
              "    <tr>\n",
              "      <td>3</td>\n",
              "      <td>min</td>\n",
              "      <td>AK</td>\n",
              "      <td>1</td>\n",
              "      <td>408</td>\n",
              "      <td>327-1058</td>\n",
              "      <td>no</td>\n",
              "      <td>no</td>\n",
              "      <td>0.0</td>\n",
              "      <td>0.0</td>\n",
              "      <td>0.0</td>\n",
              "      <td>...</td>\n",
              "      <td>0.0</td>\n",
              "      <td>0.0</td>\n",
              "      <td>23.2</td>\n",
              "      <td>33.0</td>\n",
              "      <td>1.04</td>\n",
              "      <td>0.0</td>\n",
              "      <td>0.0</td>\n",
              "      <td>0.0</td>\n",
              "      <td>0.0</td>\n",
              "      <td>False.</td>\n",
              "    </tr>\n",
              "    <tr>\n",
              "      <td>4</td>\n",
              "      <td>25%</td>\n",
              "      <td>None</td>\n",
              "      <td>74.0</td>\n",
              "      <td>408.0</td>\n",
              "      <td>None</td>\n",
              "      <td>None</td>\n",
              "      <td>None</td>\n",
              "      <td>0.0</td>\n",
              "      <td>143.7</td>\n",
              "      <td>87.0</td>\n",
              "      <td>...</td>\n",
              "      <td>87.0</td>\n",
              "      <td>14.16</td>\n",
              "      <td>167.0</td>\n",
              "      <td>87.0</td>\n",
              "      <td>7.52</td>\n",
              "      <td>8.5</td>\n",
              "      <td>3.0</td>\n",
              "      <td>2.3</td>\n",
              "      <td>1.0</td>\n",
              "      <td>None</td>\n",
              "    </tr>\n",
              "    <tr>\n",
              "      <td>5</td>\n",
              "      <td>50%</td>\n",
              "      <td>None</td>\n",
              "      <td>101.0</td>\n",
              "      <td>415.0</td>\n",
              "      <td>None</td>\n",
              "      <td>None</td>\n",
              "      <td>None</td>\n",
              "      <td>0.0</td>\n",
              "      <td>179.4</td>\n",
              "      <td>101.0</td>\n",
              "      <td>...</td>\n",
              "      <td>100.0</td>\n",
              "      <td>17.12</td>\n",
              "      <td>201.2</td>\n",
              "      <td>100.0</td>\n",
              "      <td>9.05</td>\n",
              "      <td>10.3</td>\n",
              "      <td>4.0</td>\n",
              "      <td>2.78</td>\n",
              "      <td>1.0</td>\n",
              "      <td>None</td>\n",
              "    </tr>\n",
              "    <tr>\n",
              "      <td>6</td>\n",
              "      <td>75%</td>\n",
              "      <td>None</td>\n",
              "      <td>127.0</td>\n",
              "      <td>510.0</td>\n",
              "      <td>None</td>\n",
              "      <td>None</td>\n",
              "      <td>None</td>\n",
              "      <td>20.0</td>\n",
              "      <td>216.4</td>\n",
              "      <td>114.0</td>\n",
              "      <td>...</td>\n",
              "      <td>114.0</td>\n",
              "      <td>20.0</td>\n",
              "      <td>235.3</td>\n",
              "      <td>113.0</td>\n",
              "      <td>10.59</td>\n",
              "      <td>12.1</td>\n",
              "      <td>6.0</td>\n",
              "      <td>3.27</td>\n",
              "      <td>2.0</td>\n",
              "      <td>None</td>\n",
              "    </tr>\n",
              "    <tr>\n",
              "      <td>7</td>\n",
              "      <td>max</td>\n",
              "      <td>WY</td>\n",
              "      <td>99</td>\n",
              "      <td>510</td>\n",
              "      <td>422-9964</td>\n",
              "      <td>yes</td>\n",
              "      <td>yes</td>\n",
              "      <td>51.0</td>\n",
              "      <td>350.8</td>\n",
              "      <td>165.0</td>\n",
              "      <td>...</td>\n",
              "      <td>170.0</td>\n",
              "      <td>30.91</td>\n",
              "      <td>395.0</td>\n",
              "      <td>175.0</td>\n",
              "      <td>17.77</td>\n",
              "      <td>20.0</td>\n",
              "      <td>20.0</td>\n",
              "      <td>5.4</td>\n",
              "      <td>9.0</td>\n",
              "      <td>True.</td>\n",
              "    </tr>\n",
              "  </tbody>\n",
              "</table>\n",
              "<p>8 rows × 22 columns</p>\n",
              "</div>"
            ],
            "text/plain": [
              "  summary state             account           area_code phone_number  \\\n",
              "0   count  3333                3333                3333         3333   \n",
              "1    mean  None  101.06480648064806  437.18241824182417         None   \n",
              "2  stddev  None  39.822105928595676   42.37129048560661         None   \n",
              "3     min    AK                   1                 408     327-1058   \n",
              "4     25%  None                74.0               408.0         None   \n",
              "5     50%  None               101.0               415.0         None   \n",
              "6     75%  None               127.0               510.0         None   \n",
              "7     max    WY                  99                 510     422-9964   \n",
              "\n",
              "  international_plan voice_mail_plan number_vmail_messages  \\\n",
              "0               3333            3333                  3333   \n",
              "1               None            None     8.099009900990099   \n",
              "2               None            None    13.688365372038598   \n",
              "3                 no              no                   0.0   \n",
              "4               None            None                   0.0   \n",
              "5               None            None                   0.0   \n",
              "6               None            None                  20.0   \n",
              "7                yes             yes                  51.0   \n",
              "\n",
              "    total_day_minutes     total_day_calls  ...     total_eve_calls  \\\n",
              "0                3333                3333  ...                3333   \n",
              "1  179.77509750975116  100.43564356435644  ...  100.11431143114311   \n",
              "2   54.46738920237146  20.069084207300893  ...   19.92262529394312   \n",
              "3                 0.0                 0.0  ...                 0.0   \n",
              "4               143.7                87.0  ...                87.0   \n",
              "5               179.4               101.0  ...               100.0   \n",
              "6               216.4               114.0  ...               114.0   \n",
              "7               350.8               165.0  ...               170.0   \n",
              "\n",
              "     total_eve_charge total_night_minutes   total_night_calls  \\\n",
              "0                3333                3333                3333   \n",
              "1  17.083540354035392  200.87203720372048  100.10771077107711   \n",
              "2   4.310667643110347   50.57384701365836  19.568609346058544   \n",
              "3                 0.0                23.2                33.0   \n",
              "4               14.16               167.0                87.0   \n",
              "5               17.12               201.2               100.0   \n",
              "6                20.0               235.3               113.0   \n",
              "7               30.91               395.0               175.0   \n",
              "\n",
              "  total_night_charge  total_intl_minutes    total_intl_calls  \\\n",
              "0               3333                3333                3333   \n",
              "1  9.039324932493264  10.237293729372933  4.4794479447944795   \n",
              "2  2.275872837660027   2.791839548408416  2.4612142705460953   \n",
              "3               1.04                 0.0                 0.0   \n",
              "4               7.52                 8.5                 3.0   \n",
              "5               9.05                10.3                 4.0   \n",
              "6              10.59                12.1                 6.0   \n",
              "7              17.77                20.0                20.0   \n",
              "\n",
              "    total_intl_charge number_customer_service_calls    churn  \n",
              "0                3333                          3333     3333  \n",
              "1   2.764581458145804            1.5628562856285628     None  \n",
              "2  0.7537726126630451            1.3154910448664752     None  \n",
              "3                 0.0                           0.0   False.  \n",
              "4                 2.3                           1.0     None  \n",
              "5                2.78                           1.0     None  \n",
              "6                3.27                           2.0     None  \n",
              "7                 5.4                           9.0    True.  \n",
              "\n",
              "[8 rows x 22 columns]"
            ]
          },
          "execution_count": 32,
          "metadata": {},
          "output_type": "execute_result"
        }
      ],
      "source": [
        "df_telco_summary"
      ]
    },
    {
      "cell_type": "code",
      "execution_count": null,
      "metadata": {
        "id": "P76XAgungE5W"
      },
      "outputs": [],
      "source": [
        "final_df = df_telco.na.drop()"
      ]
    },
    {
      "cell_type": "markdown",
      "metadata": {
        "id": "a2JHTF2egE5W"
      },
      "source": [
        "### Transformación de registros\n",
        "\n",
        "En general para realizar una transformación a una columna se usa la función withColumn"
      ]
    },
    {
      "cell_type": "code",
      "execution_count": null,
      "metadata": {
        "id": "QNEOTHAvgE5W",
        "outputId": "60bfa40b-970e-4cdd-dae1-ee6e888e3e62"
      },
      "outputs": [
        {
          "name": "stdout",
          "output_type": "stream",
          "text": [
            "+-------+-----+\n",
            "|  churn|count|\n",
            "+-------+-----+\n",
            "| False.| 2850|\n",
            "|  True.|  483|\n",
            "+-------+-----+\n",
            "\n"
          ]
        }
      ],
      "source": [
        "final_df.groupBy(F.col('churn')).count().show()"
      ]
    },
    {
      "cell_type": "code",
      "execution_count": null,
      "metadata": {
        "id": "Zv7glZs6gE5W"
      },
      "outputs": [],
      "source": [
        "final_df = final_df.withColumn('churn', F.trim(final_df.churn))"
      ]
    },
    {
      "cell_type": "code",
      "execution_count": null,
      "metadata": {
        "id": "iGi7n8VkgE5X",
        "outputId": "fb75c90c-b1be-47d7-92ca-976ca0e349e3"
      },
      "outputs": [
        {
          "name": "stdout",
          "output_type": "stream",
          "text": [
            "+------+-----+\n",
            "| churn|count|\n",
            "+------+-----+\n",
            "| True.|  483|\n",
            "|False.| 2850|\n",
            "+------+-----+\n",
            "\n"
          ]
        }
      ],
      "source": [
        "final_df.groupBy(F.col('churn')).count().show()"
      ]
    },
    {
      "cell_type": "markdown",
      "metadata": {
        "id": "Bx01oeq8gE5X"
      },
      "source": [
        "## Feature engineering\n",
        "\n",
        "Se realiza una transformación de variables cualitativas"
      ]
    },
    {
      "cell_type": "code",
      "execution_count": null,
      "metadata": {
        "id": "c6uIAC2ogE5X"
      },
      "outputs": [],
      "source": [
        "df_telco_final = final_df.select([\n",
        " 'state',\n",
        " 'area_code',\n",
        " 'international_plan',\n",
        " 'voice_mail_plan',\n",
        " 'number_vmail_messages',\n",
        " 'total_day_minutes',\n",
        " 'total_day_calls',\n",
        " 'total_day_charge',\n",
        " 'total_eve_minutes',\n",
        " 'total_eve_calls',\n",
        " 'total_eve_charge',\n",
        " 'total_night_minutes',\n",
        " 'total_night_calls',\n",
        " 'total_night_charge',\n",
        " 'total_intl_minutes',\n",
        " 'total_intl_calls',\n",
        " 'total_intl_charge',\n",
        " 'number_customer_service_calls',\n",
        " \"churn\"])"
      ]
    },
    {
      "cell_type": "code",
      "execution_count": null,
      "metadata": {
        "id": "9KPOEZCEgE5X"
      },
      "outputs": [],
      "source": [
        "from pyspark.ml.feature import VectorAssembler, OneHotEncoder, StringIndexer"
      ]
    },
    {
      "cell_type": "markdown",
      "metadata": {
        "id": "wORns3JVgE5X"
      },
      "source": [
        "one hot encoding State"
      ]
    },
    {
      "cell_type": "code",
      "execution_count": null,
      "metadata": {
        "id": "Vr5UR-hBgE5X"
      },
      "outputs": [],
      "source": [
        "state_indexer = StringIndexer(inputCol= 'state', outputCol= 'stateIndex')"
      ]
    },
    {
      "cell_type": "code",
      "execution_count": null,
      "metadata": {
        "id": "fqeD1cZ3gE5Y"
      },
      "outputs": [],
      "source": [
        "state_encoder = OneHotEncoder(inputCol = 'stateIndex', outputCol= 'stateVec')"
      ]
    },
    {
      "cell_type": "markdown",
      "metadata": {
        "id": "vBA2pwL4gE5Y"
      },
      "source": [
        "one hot encoding area_code"
      ]
    },
    {
      "cell_type": "code",
      "execution_count": null,
      "metadata": {
        "id": "vL1dExXHgE5Y"
      },
      "outputs": [],
      "source": [
        "area_code_indexer = StringIndexer(inputCol='area_code', outputCol= 'area_codeIndex')"
      ]
    },
    {
      "cell_type": "code",
      "execution_count": null,
      "metadata": {
        "id": "23oa8GiCgE5Y"
      },
      "outputs": [],
      "source": [
        "area_code_encoder = OneHotEncoder(inputCol = 'area_codeIndex', outputCol= 'area_codeVec')"
      ]
    },
    {
      "cell_type": "markdown",
      "metadata": {
        "id": "3rWJUy0EgE5Y"
      },
      "source": [
        "one hot encoding international_plan"
      ]
    },
    {
      "cell_type": "code",
      "execution_count": null,
      "metadata": {
        "id": "y1gIjEbEgE5Y"
      },
      "outputs": [],
      "source": [
        "international_plan_indexer = StringIndexer(inputCol='international_plan', outputCol= 'international_planIndex')"
      ]
    },
    {
      "cell_type": "code",
      "execution_count": null,
      "metadata": {
        "id": "chN0y1xrgE5Y"
      },
      "outputs": [],
      "source": [
        "international_plan_encoder = OneHotEncoder(inputCol = 'international_planIndex', outputCol= 'international_planVec')"
      ]
    },
    {
      "cell_type": "markdown",
      "metadata": {
        "id": "ONKGb2B9gE5Y"
      },
      "source": [
        "one hot encoding voice_mail_plan"
      ]
    },
    {
      "cell_type": "code",
      "execution_count": null,
      "metadata": {
        "id": "5K0wW1INgE5Z"
      },
      "outputs": [],
      "source": [
        "voice_mail_plan_indexer = StringIndexer(inputCol='voice_mail_plan', outputCol= 'voice_mail_planIndex')"
      ]
    },
    {
      "cell_type": "code",
      "execution_count": null,
      "metadata": {
        "id": "-3lhrTK9gE5Z"
      },
      "outputs": [],
      "source": [
        "voice_mail_plan_encoder = OneHotEncoder(inputCol = 'voice_mail_planIndex', outputCol= 'voice_mail_planVec')"
      ]
    },
    {
      "cell_type": "code",
      "execution_count": null,
      "metadata": {
        "id": "Mx2RqAtWgE5Z"
      },
      "outputs": [],
      "source": [
        "churn_indexer = StringIndexer(inputCol= 'churn', outputCol= 'churnIndex')"
      ]
    },
    {
      "cell_type": "code",
      "execution_count": null,
      "metadata": {
        "id": "jCby4mTXgE5Z"
      },
      "outputs": [],
      "source": [
        "assembler = VectorAssembler(inputCols = ['stateVec', 'area_codeVec', 'international_planVec', 'voice_mail_planVec',\n",
        "                                        'number_vmail_messages',\n",
        "                                         'total_day_minutes',\n",
        "                                         'total_day_calls',\n",
        "                                         'total_day_charge',\n",
        "                                         'total_eve_minutes',\n",
        "                                         'total_eve_calls',\n",
        "                                         'total_eve_charge',\n",
        "                                         'total_night_minutes',\n",
        "                                         'total_night_calls',\n",
        "                                         'total_night_charge',\n",
        "                                         'total_intl_minutes',\n",
        "                                         'total_intl_calls',\n",
        "                                         'total_intl_charge',\n",
        "                                         'number_customer_service_calls'\n",
        "                                        ], outputCol= 'features')"
      ]
    },
    {
      "cell_type": "markdown",
      "metadata": {
        "id": "cZoy8mDfgE5Z"
      },
      "source": [
        "Seleccionando las variables que se usarán en el análisis cluster"
      ]
    },
    {
      "cell_type": "code",
      "execution_count": null,
      "metadata": {
        "id": "NKhWSSDkgE5a",
        "outputId": "5daf44e5-3100-45e9-ed1a-d35de6bbc54f"
      },
      "outputs": [
        {
          "data": {
            "text/plain": [
              "['state',\n",
              " 'area_code',\n",
              " 'international_plan',\n",
              " 'voice_mail_plan',\n",
              " 'number_vmail_messages',\n",
              " 'total_day_minutes',\n",
              " 'total_day_calls',\n",
              " 'total_day_charge',\n",
              " 'total_eve_minutes',\n",
              " 'total_eve_calls',\n",
              " 'total_eve_charge',\n",
              " 'total_night_minutes',\n",
              " 'total_night_calls',\n",
              " 'total_night_charge',\n",
              " 'total_intl_minutes',\n",
              " 'total_intl_calls',\n",
              " 'total_intl_charge',\n",
              " 'number_customer_service_calls',\n",
              " 'churn']"
            ]
          },
          "execution_count": 62,
          "metadata": {},
          "output_type": "execute_result"
        }
      ],
      "source": [
        "df_telco_final.columns"
      ]
    },
    {
      "cell_type": "code",
      "execution_count": null,
      "metadata": {
        "id": "KBfgWZusgE5a"
      },
      "outputs": [],
      "source": [
        "df_telco_col_seg = df_telco_final.select([\n",
        " 'state',\n",
        " 'area_code',\n",
        " 'international_plan',\n",
        " 'voice_mail_plan',   \n",
        " 'number_vmail_messages',\n",
        " 'total_day_minutes',\n",
        " 'total_day_calls',\n",
        " 'total_day_charge',\n",
        " 'total_eve_minutes',\n",
        " 'total_eve_calls',\n",
        " 'total_eve_charge',\n",
        " 'total_night_minutes',\n",
        " 'total_night_calls',\n",
        " 'total_night_charge',\n",
        " 'total_intl_minutes',\n",
        " 'total_intl_calls',\n",
        " 'total_intl_charge',\n",
        " 'number_customer_service_calls'])"
      ]
    },
    {
      "cell_type": "code",
      "execution_count": null,
      "metadata": {
        "id": "wrOpGOeZgE5a"
      },
      "outputs": [],
      "source": [
        "from pyspark.ml.clustering import KMeans\n",
        "from pyspark.ml.evaluation import ClusteringEvaluator"
      ]
    },
    {
      "cell_type": "code",
      "execution_count": null,
      "metadata": {
        "id": "T96LFY3CgE5a"
      },
      "outputs": [],
      "source": [
        "from pyspark.ml import Pipeline"
      ]
    },
    {
      "cell_type": "code",
      "execution_count": null,
      "metadata": {
        "id": "B9isaENFgE5a"
      },
      "outputs": [],
      "source": [
        "kmeans = KMeans().setK(5).setSeed(1)"
      ]
    },
    {
      "cell_type": "code",
      "execution_count": null,
      "metadata": {
        "id": "7FZQvQ5vgE5b"
      },
      "outputs": [],
      "source": [
        "pipeline = Pipeline(stages= [\n",
        "    state_indexer,\n",
        "    area_code_indexer,\n",
        "    international_plan_indexer,\n",
        "    voice_mail_plan_indexer,\n",
        "    state_encoder,\n",
        "    area_code_encoder,\n",
        "    international_plan_encoder,\n",
        "    voice_mail_plan_encoder,\n",
        "    assembler, \n",
        "    kmeans])"
      ]
    },
    {
      "cell_type": "code",
      "execution_count": null,
      "metadata": {
        "id": "Ck5uCMXDgE5b"
      },
      "outputs": [],
      "source": [
        "train_data, test_data = final_df.randomSplit([0.7,0.3])"
      ]
    },
    {
      "cell_type": "code",
      "execution_count": null,
      "metadata": {
        "id": "2HzOPaaAgE5b"
      },
      "outputs": [],
      "source": [
        "fit_model = pipeline.fit(train_data)"
      ]
    },
    {
      "cell_type": "code",
      "execution_count": null,
      "metadata": {
        "id": "JgZaJw4ogE5c",
        "outputId": "c7e9f766-6cef-4d82-def4-10e3e5631b6f"
      },
      "outputs": [
        {
          "data": {
            "text/plain": [
              "pyspark.ml.pipeline.PipelineModel"
            ]
          },
          "execution_count": 70,
          "metadata": {},
          "output_type": "execute_result"
        }
      ],
      "source": [
        "type(fit_model)"
      ]
    },
    {
      "cell_type": "markdown",
      "metadata": {
        "id": "2vyrLcjigE5c"
      },
      "source": [
        "realizar clusterizaciones"
      ]
    },
    {
      "cell_type": "code",
      "execution_count": null,
      "metadata": {
        "id": "snPIeRGFgE5c"
      },
      "outputs": [],
      "source": [
        "predictions = fit_model.transform(test_data)"
      ]
    },
    {
      "cell_type": "code",
      "execution_count": null,
      "metadata": {
        "id": "_DYrYKxBgE5d",
        "outputId": "3cf07a44-2734-4808-bcb4-436745eb2137"
      },
      "outputs": [
        {
          "name": "stdout",
          "output_type": "stream",
          "text": [
            "+-----+-------+---------+------------+------------------+---------------+---------------------+-----------------+---------------+----------------+-----------------+---------------+----------------+-------------------+-----------------+------------------+------------------+----------------+-----------------+-----------------------------+------+----------+--------------+-----------------------+--------------------+---------------+-------------+---------------------+------------------+--------------------+----------+\n",
            "|state|account|area_code|phone_number|international_plan|voice_mail_plan|number_vmail_messages|total_day_minutes|total_day_calls|total_day_charge|total_eve_minutes|total_eve_calls|total_eve_charge|total_night_minutes|total_night_calls|total_night_charge|total_intl_minutes|total_intl_calls|total_intl_charge|number_customer_service_calls| churn|stateIndex|area_codeIndex|international_planIndex|voice_mail_planIndex|       stateVec| area_codeVec|international_planVec|voice_mail_planVec|            features|prediction|\n",
            "+-----+-------+---------+------------+------------------+---------------+---------------------+-----------------+---------------+----------------+-----------------+---------------+----------------+-------------------+-----------------+------------------+------------------+----------------+-----------------+-----------------------------+------+----------+--------------+-----------------------+--------------------+---------------+-------------+---------------------+------------------+--------------------+----------+\n",
            "|   AK|      1|      408|    373-1028|                no|             no|                  0.0|            175.2|           74.0|           29.78|            151.7|           79.0|           12.89|              230.5|            109.0|             10.37|               5.3|             3.0|             1.43|                          1.0|False.|      45.0|           1.0|                    0.0|                 0.0|(50,[45],[1.0])|(2,[1],[1.0])|        (1,[0],[1.0])|     (1,[0],[1.0])|(68,[45,51,52,53,...|         3|\n",
            "|   AK|    101|      510|    411-4940|                no|             no|                  0.0|            174.9|          105.0|           29.73|            262.0|           75.0|           22.27|              210.0|             93.0|              9.45|               8.5|             5.0|              2.3|                          1.0|False.|      45.0|           2.0|                    0.0|                 0.0|(50,[45],[1.0])|    (2,[],[])|        (1,[0],[1.0])|     (1,[0],[1.0])|(68,[45,52,53,55,...|         0|\n",
            "|   AK|    103|      510|    359-9454|                no|             no|                  0.0|            190.9|           62.0|           32.45|            226.6|           53.0|           19.26|              230.1|             96.0|             10.35|               7.8|             3.0|             2.11|                          2.0|False.|      45.0|           2.0|                    0.0|                 0.0|(50,[45],[1.0])|    (2,[],[])|        (1,[0],[1.0])|     (1,[0],[1.0])|(68,[45,52,53,55,...|         2|\n",
            "|   AK|    104|      408|    366-4467|                no|             no|                  0.0|            278.4|          106.0|           47.33|             81.0|          113.0|            6.89|              163.2|            137.0|              7.34|               9.8|             5.0|             2.65|                          1.0|False.|      45.0|           1.0|                    0.0|                 0.0|(50,[45],[1.0])|(2,[1],[1.0])|        (1,[0],[1.0])|     (1,[0],[1.0])|(68,[45,51,52,53,...|         4|\n",
            "|   AK|    108|      415|    330-5462|                no|             no|                  0.0|            103.0|          129.0|           17.51|            242.3|          103.0|            20.6|              170.2|             89.0|              7.66|               7.9|             3.0|             2.13|                          1.0|False.|      45.0|           0.0|                    0.0|                 0.0|(50,[45],[1.0])|(2,[0],[1.0])|        (1,[0],[1.0])|     (1,[0],[1.0])|(68,[45,50,52,53,...|         0|\n",
            "+-----+-------+---------+------------+------------------+---------------+---------------------+-----------------+---------------+----------------+-----------------+---------------+----------------+-------------------+-----------------+------------------+------------------+----------------+-----------------+-----------------------------+------+----------+--------------+-----------------------+--------------------+---------------+-------------+---------------------+------------------+--------------------+----------+\n",
            "only showing top 5 rows\n",
            "\n"
          ]
        }
      ],
      "source": [
        "predictions.show(5)"
      ]
    },
    {
      "cell_type": "markdown",
      "metadata": {
        "id": "YpC5C25SgE5d"
      },
      "source": [
        "para observar de mejor manera se puede obtener una muestra y convertirlo en un dataframe Pandas"
      ]
    },
    {
      "cell_type": "code",
      "execution_count": null,
      "metadata": {
        "id": "MXMjdOtsgE5d"
      },
      "outputs": [],
      "source": [
        "predictions_pandas = predictions.sample(fraction=0.5).toPandas()"
      ]
    },
    {
      "cell_type": "code",
      "execution_count": null,
      "metadata": {
        "id": "-Dsk5Yb9gE5e",
        "outputId": "ff451eaf-ebde-4bca-99c1-df2b8aec4fc3"
      },
      "outputs": [
        {
          "data": {
            "text/html": [
              "<div>\n",
              "<style scoped>\n",
              "    .dataframe tbody tr th:only-of-type {\n",
              "        vertical-align: middle;\n",
              "    }\n",
              "\n",
              "    .dataframe tbody tr th {\n",
              "        vertical-align: top;\n",
              "    }\n",
              "\n",
              "    .dataframe thead th {\n",
              "        text-align: right;\n",
              "    }\n",
              "</style>\n",
              "<table border=\"1\" class=\"dataframe\">\n",
              "  <thead>\n",
              "    <tr style=\"text-align: right;\">\n",
              "      <th></th>\n",
              "      <th>state</th>\n",
              "      <th>account</th>\n",
              "      <th>area_code</th>\n",
              "      <th>phone_number</th>\n",
              "      <th>international_plan</th>\n",
              "      <th>voice_mail_plan</th>\n",
              "      <th>number_vmail_messages</th>\n",
              "      <th>total_day_minutes</th>\n",
              "      <th>total_day_calls</th>\n",
              "      <th>total_day_charge</th>\n",
              "      <th>...</th>\n",
              "      <th>stateIndex</th>\n",
              "      <th>area_codeIndex</th>\n",
              "      <th>international_planIndex</th>\n",
              "      <th>voice_mail_planIndex</th>\n",
              "      <th>stateVec</th>\n",
              "      <th>area_codeVec</th>\n",
              "      <th>international_planVec</th>\n",
              "      <th>voice_mail_planVec</th>\n",
              "      <th>features</th>\n",
              "      <th>prediction</th>\n",
              "    </tr>\n",
              "  </thead>\n",
              "  <tbody>\n",
              "    <tr>\n",
              "      <td>0</td>\n",
              "      <td>AK</td>\n",
              "      <td>1</td>\n",
              "      <td>408</td>\n",
              "      <td>373-1028</td>\n",
              "      <td>no</td>\n",
              "      <td>no</td>\n",
              "      <td>0.0</td>\n",
              "      <td>175.2</td>\n",
              "      <td>74.0</td>\n",
              "      <td>29.78</td>\n",
              "      <td>...</td>\n",
              "      <td>45.0</td>\n",
              "      <td>1.0</td>\n",
              "      <td>0.0</td>\n",
              "      <td>0.0</td>\n",
              "      <td>(0.0, 0.0, 0.0, 0.0, 0.0, 0.0, 0.0, 0.0, 0.0, ...</td>\n",
              "      <td>(0.0, 1.0)</td>\n",
              "      <td>(1.0)</td>\n",
              "      <td>(1.0)</td>\n",
              "      <td>(0.0, 0.0, 0.0, 0.0, 0.0, 0.0, 0.0, 0.0, 0.0, ...</td>\n",
              "      <td>3</td>\n",
              "    </tr>\n",
              "    <tr>\n",
              "      <td>1</td>\n",
              "      <td>AK</td>\n",
              "      <td>101</td>\n",
              "      <td>510</td>\n",
              "      <td>411-4940</td>\n",
              "      <td>no</td>\n",
              "      <td>no</td>\n",
              "      <td>0.0</td>\n",
              "      <td>174.9</td>\n",
              "      <td>105.0</td>\n",
              "      <td>29.73</td>\n",
              "      <td>...</td>\n",
              "      <td>45.0</td>\n",
              "      <td>2.0</td>\n",
              "      <td>0.0</td>\n",
              "      <td>0.0</td>\n",
              "      <td>(0.0, 0.0, 0.0, 0.0, 0.0, 0.0, 0.0, 0.0, 0.0, ...</td>\n",
              "      <td>(0.0, 0.0)</td>\n",
              "      <td>(1.0)</td>\n",
              "      <td>(1.0)</td>\n",
              "      <td>(0.0, 0.0, 0.0, 0.0, 0.0, 0.0, 0.0, 0.0, 0.0, ...</td>\n",
              "      <td>0</td>\n",
              "    </tr>\n",
              "    <tr>\n",
              "      <td>2</td>\n",
              "      <td>AK</td>\n",
              "      <td>127</td>\n",
              "      <td>510</td>\n",
              "      <td>345-8237</td>\n",
              "      <td>no</td>\n",
              "      <td>yes</td>\n",
              "      <td>36.0</td>\n",
              "      <td>183.2</td>\n",
              "      <td>117.0</td>\n",
              "      <td>31.14</td>\n",
              "      <td>...</td>\n",
              "      <td>45.0</td>\n",
              "      <td>2.0</td>\n",
              "      <td>0.0</td>\n",
              "      <td>1.0</td>\n",
              "      <td>(0.0, 0.0, 0.0, 0.0, 0.0, 0.0, 0.0, 0.0, 0.0, ...</td>\n",
              "      <td>(0.0, 0.0)</td>\n",
              "      <td>(1.0)</td>\n",
              "      <td>(0.0)</td>\n",
              "      <td>(0.0, 0.0, 0.0, 0.0, 0.0, 0.0, 0.0, 0.0, 0.0, ...</td>\n",
              "      <td>3</td>\n",
              "    </tr>\n",
              "    <tr>\n",
              "      <td>3</td>\n",
              "      <td>AK</td>\n",
              "      <td>130</td>\n",
              "      <td>415</td>\n",
              "      <td>392-5587</td>\n",
              "      <td>no</td>\n",
              "      <td>no</td>\n",
              "      <td>0.0</td>\n",
              "      <td>242.5</td>\n",
              "      <td>101.0</td>\n",
              "      <td>41.23</td>\n",
              "      <td>...</td>\n",
              "      <td>45.0</td>\n",
              "      <td>0.0</td>\n",
              "      <td>0.0</td>\n",
              "      <td>0.0</td>\n",
              "      <td>(0.0, 0.0, 0.0, 0.0, 0.0, 0.0, 0.0, 0.0, 0.0, ...</td>\n",
              "      <td>(1.0, 0.0)</td>\n",
              "      <td>(1.0)</td>\n",
              "      <td>(1.0)</td>\n",
              "      <td>(0.0, 0.0, 0.0, 0.0, 0.0, 0.0, 0.0, 0.0, 0.0, ...</td>\n",
              "      <td>4</td>\n",
              "    </tr>\n",
              "    <tr>\n",
              "      <td>4</td>\n",
              "      <td>AK</td>\n",
              "      <td>132</td>\n",
              "      <td>415</td>\n",
              "      <td>345-9153</td>\n",
              "      <td>no</td>\n",
              "      <td>yes</td>\n",
              "      <td>39.0</td>\n",
              "      <td>175.7</td>\n",
              "      <td>93.0</td>\n",
              "      <td>29.87</td>\n",
              "      <td>...</td>\n",
              "      <td>45.0</td>\n",
              "      <td>0.0</td>\n",
              "      <td>0.0</td>\n",
              "      <td>1.0</td>\n",
              "      <td>(0.0, 0.0, 0.0, 0.0, 0.0, 0.0, 0.0, 0.0, 0.0, ...</td>\n",
              "      <td>(1.0, 0.0)</td>\n",
              "      <td>(1.0)</td>\n",
              "      <td>(0.0)</td>\n",
              "      <td>(0.0, 0.0, 0.0, 0.0, 0.0, 0.0, 0.0, 0.0, 0.0, ...</td>\n",
              "      <td>2</td>\n",
              "    </tr>\n",
              "  </tbody>\n",
              "</table>\n",
              "<p>5 rows × 31 columns</p>\n",
              "</div>"
            ],
            "text/plain": [
              "  state account area_code phone_number international_plan voice_mail_plan  \\\n",
              "0    AK       1       408     373-1028                 no              no   \n",
              "1    AK     101       510     411-4940                 no              no   \n",
              "2    AK     127       510     345-8237                 no             yes   \n",
              "3    AK     130       415     392-5587                 no              no   \n",
              "4    AK     132       415     345-9153                 no             yes   \n",
              "\n",
              "   number_vmail_messages  total_day_minutes  total_day_calls  \\\n",
              "0                    0.0              175.2             74.0   \n",
              "1                    0.0              174.9            105.0   \n",
              "2                   36.0              183.2            117.0   \n",
              "3                    0.0              242.5            101.0   \n",
              "4                   39.0              175.7             93.0   \n",
              "\n",
              "   total_day_charge  ...  stateIndex  area_codeIndex  international_planIndex  \\\n",
              "0             29.78  ...        45.0             1.0                      0.0   \n",
              "1             29.73  ...        45.0             2.0                      0.0   \n",
              "2             31.14  ...        45.0             2.0                      0.0   \n",
              "3             41.23  ...        45.0             0.0                      0.0   \n",
              "4             29.87  ...        45.0             0.0                      0.0   \n",
              "\n",
              "   voice_mail_planIndex                                           stateVec  \\\n",
              "0                   0.0  (0.0, 0.0, 0.0, 0.0, 0.0, 0.0, 0.0, 0.0, 0.0, ...   \n",
              "1                   0.0  (0.0, 0.0, 0.0, 0.0, 0.0, 0.0, 0.0, 0.0, 0.0, ...   \n",
              "2                   1.0  (0.0, 0.0, 0.0, 0.0, 0.0, 0.0, 0.0, 0.0, 0.0, ...   \n",
              "3                   0.0  (0.0, 0.0, 0.0, 0.0, 0.0, 0.0, 0.0, 0.0, 0.0, ...   \n",
              "4                   1.0  (0.0, 0.0, 0.0, 0.0, 0.0, 0.0, 0.0, 0.0, 0.0, ...   \n",
              "\n",
              "   area_codeVec  international_planVec  voice_mail_planVec  \\\n",
              "0    (0.0, 1.0)                  (1.0)               (1.0)   \n",
              "1    (0.0, 0.0)                  (1.0)               (1.0)   \n",
              "2    (0.0, 0.0)                  (1.0)               (0.0)   \n",
              "3    (1.0, 0.0)                  (1.0)               (1.0)   \n",
              "4    (1.0, 0.0)                  (1.0)               (0.0)   \n",
              "\n",
              "                                            features  prediction  \n",
              "0  (0.0, 0.0, 0.0, 0.0, 0.0, 0.0, 0.0, 0.0, 0.0, ...           3  \n",
              "1  (0.0, 0.0, 0.0, 0.0, 0.0, 0.0, 0.0, 0.0, 0.0, ...           0  \n",
              "2  (0.0, 0.0, 0.0, 0.0, 0.0, 0.0, 0.0, 0.0, 0.0, ...           3  \n",
              "3  (0.0, 0.0, 0.0, 0.0, 0.0, 0.0, 0.0, 0.0, 0.0, ...           4  \n",
              "4  (0.0, 0.0, 0.0, 0.0, 0.0, 0.0, 0.0, 0.0, 0.0, ...           2  \n",
              "\n",
              "[5 rows x 31 columns]"
            ]
          },
          "execution_count": 78,
          "metadata": {},
          "output_type": "execute_result"
        }
      ],
      "source": [
        "predictions_pandas.head()"
      ]
    },
    {
      "cell_type": "code",
      "execution_count": null,
      "metadata": {
        "id": "jq_YCjGmgE5e",
        "outputId": "be617168-5a99-4ea7-9322-f600cc5189f9"
      },
      "outputs": [
        {
          "name": "stdout",
          "output_type": "stream",
          "text": [
            "+----------+-----+\n",
            "|prediction|count|\n",
            "+----------+-----+\n",
            "|         1|  184|\n",
            "|         3|  205|\n",
            "|         4|  209|\n",
            "|         2|  209|\n",
            "|         0|  200|\n",
            "+----------+-----+\n",
            "\n"
          ]
        }
      ],
      "source": [
        "predictions.groupBy(F.col('prediction')).count().show()"
      ]
    },
    {
      "cell_type": "code",
      "execution_count": null,
      "metadata": {
        "id": "P_yF68DOgE5e",
        "outputId": "5025e1ef-3d80-4e17-9e14-b42211c4f839"
      },
      "outputs": [
        {
          "data": {
            "text/plain": [
              "2    117\n",
              "0    117\n",
              "4    109\n",
              "3    105\n",
              "1     97\n",
              "Name: prediction, dtype: int64"
            ]
          },
          "execution_count": 80,
          "metadata": {},
          "output_type": "execute_result"
        }
      ],
      "source": [
        "predictions_pandas['prediction'].value_counts()"
      ]
    },
    {
      "cell_type": "markdown",
      "metadata": {
        "id": "j4cpuzHogE5e"
      },
      "source": [
        "Evaluar mediante el coeficiente de Silhouette\n",
        "\n",
        "El coeficiente Silhouette se encuentra entre - 1 y 1 siendo lo mejor 1 y lo peor -1, el valor 0 indica que los clusters estan sobreponiendo"
      ]
    },
    {
      "cell_type": "code",
      "execution_count": null,
      "metadata": {
        "id": "zD68i9u6gE5e"
      },
      "outputs": [],
      "source": [
        "evaluador = ClusteringEvaluator()"
      ]
    },
    {
      "cell_type": "code",
      "execution_count": null,
      "metadata": {
        "id": "Sji_4kpzgE5f",
        "outputId": "a370f83b-d730-48ee-ac72-2f113ec87a92"
      },
      "outputs": [
        {
          "name": "stdout",
          "output_type": "stream",
          "text": [
            "El coeficiente Silhouette usando distancias euclidianas al cuadrado es = 0.27447674656410437\n"
          ]
        }
      ],
      "source": [
        "silhouette = evaluador.evaluate(predictions)\n",
        "print(\"El coeficiente Silhouette usando distancias euclidianas al cuadrado es = \" + str(silhouette))"
      ]
    },
    {
      "cell_type": "code",
      "execution_count": null,
      "metadata": {
        "id": "FcDN4IR2gE5f"
      },
      "outputs": [],
      "source": []
    },
    {
      "cell_type": "code",
      "execution_count": null,
      "metadata": {
        "id": "5XgxY2WVgE5f"
      },
      "outputs": [],
      "source": []
    }
  ],
  "metadata": {
    "kernelspec": {
      "display_name": "Python 3",
      "language": "python",
      "name": "python3"
    },
    "language_info": {
      "codemirror_mode": {
        "name": "ipython",
        "version": 3
      },
      "file_extension": ".py",
      "mimetype": "text/x-python",
      "name": "python",
      "nbconvert_exporter": "python",
      "pygments_lexer": "ipython3",
      "version": "3.7.4"
    },
    "colab": {
      "provenance": [],
      "include_colab_link": true
    }
  },
  "nbformat": 4,
  "nbformat_minor": 0
}